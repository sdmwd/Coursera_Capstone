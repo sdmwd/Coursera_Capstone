{
 "cells": [
  {
   "cell_type": "code",
   "execution_count": 1,
   "metadata": {},
   "outputs": [],
   "source": [
    "import types\n",
    "import pandas as pd\n",
    "from botocore.client import Config\n",
    "import ibm_boto3\n",
    "\n",
    "def __iter__(self): return 0\n",
    "\n",
    "# @hidden_cell\n",
    "# The following code accesses a file in your IBM Cloud Object Storage. It includes your credentials.\n",
    "# You might want to remove those credentials before you share your notebook.\n",
    "client_339524e45d8c4ca5b34d613d0c24c364 = ibm_boto3.client(service_name='s3',\n",
    "    ibm_api_key_id='****',\n",
    "    ibm_auth_endpoint=\"https://iam.bluemix.net/oidc/token\",\n",
    "    config=Config(signature_version='oauth'),\n",
    "    endpoint_url='https://s3.eu-geo.objectstorage.service.networklayer.com')\n",
    "\n",
    "body = client_339524e45d8c4ca5b34d613d0c24c364.get_object(Bucket='sddatascienceandmachinelearning-donotdelete-pr-6sairimnuiulus',Key='NYC_311_Dataset.csv')['Body']\n",
    "# add missing __iter__ method, so pandas accepts body as file-like object\n",
    "if not hasattr(body, \"__iter__\"): body.__iter__ = types.MethodType( __iter__, body )\n",
    "\n",
    "df1 = pd.read_csv(body)"
   ]
  },
  {
   "cell_type": "code",
   "execution_count": 2,
   "metadata": {},
   "outputs": [],
   "source": [
    "\n",
    "# @hidden_cell\n",
    "# The following code contains the credentials for a file in your IBM Cloud Object Storage.\n",
    "# You might want to remove those credentials before you share your notebook.\n",
    "credentials_1 = {\n",
    "    'IAM_SERVICE_ID': '****',\n",
    "    'IBM_API_KEY_ID': '****',\n",
    "    'ENDPOINT': 'https://s3.eu-geo.objectstorage.service.networklayer.com',\n",
    "    'IBM_AUTH_ENDPOINT': 'https://iam.bluemix.net/oidc/token',\n",
    "    'BUCKET': 'sddatascienceandmachinelearning-donotdelete-pr-6sairimnuiulus',\n",
    "    'FILE': 'NYC_311_Dataset.csv'\n",
    "}\n"
   ]
  },
  {
   "cell_type": "code",
   "execution_count": 3,
   "metadata": {},
   "outputs": [
    {
     "name": "stderr",
     "output_type": "stream",
     "text": [
      "/opt/conda/envs/DSX-Python35/lib/python3.5/site-packages/IPython/core/interactiveshell.py:2698: DtypeWarning: Columns (19,20,22,23,64,65,80) have mixed types. Specify dtype option on import or set low_memory=False.\n",
      "  interactivity=interactivity, compiler=compiler, result=result)\n"
     ]
    }
   ],
   "source": [
    "body = client_339524e45d8c4ca5b34d613d0c24c364.get_object(Bucket='sddatascienceandmachinelearning-donotdelete-pr-6sairimnuiulus',Key='BX_18v1.csv')['Body']\n",
    "# add missing __iter__ method, so pandas accepts body as file-like object\n",
    "if not hasattr(body, \"__iter__\"): body.__iter__ = types.MethodType( __iter__, body )\n",
    "\n",
    "df2 = pd.read_csv(body)"
   ]
  },
  {
   "cell_type": "code",
   "execution_count": 4,
   "metadata": {},
   "outputs": [],
   "source": [
    "\n",
    "# @hidden_cell\n",
    "# The following code contains the credentials for a file in your IBM Cloud Object Storage.\n",
    "# You might want to remove those credentials before you share your notebook.\n",
    "credentials_2 = {\n",
    "    'IAM_SERVICE_ID': '****',\n",
    "    'IBM_API_KEY_ID': '****',\n",
    "    'ENDPOINT': 'https://s3.eu-geo.objectstorage.service.networklayer.com',\n",
    "    'IBM_AUTH_ENDPOINT': 'https://iam.bluemix.net/oidc/token',\n",
    "    'BUCKET': 'sddatascienceandmachinelearning-donotdelete-pr-6sairimnuiulus',\n",
    "    'FILE': 'BX_18v1.csv'\n",
    "}\n"
   ]
  },
  {
   "cell_type": "code",
   "execution_count": 5,
   "metadata": {},
   "outputs": [
    {
     "name": "stdout",
     "output_type": "stream",
     "text": [
      "Requirement not upgraded as not directly required: missingno in /opt/conda/envs/DSX-Python35/lib/python3.5/site-packages\n",
      "Requirement not upgraded as not directly required: seaborn in /opt/conda/envs/DSX-Python35/lib/python3.5/site-packages (from missingno)\n",
      "Requirement not upgraded as not directly required: scipy in /opt/conda/envs/DSX-Python35/lib/python3.5/site-packages (from missingno)\n",
      "Requirement not upgraded as not directly required: matplotlib in /opt/conda/envs/DSX-Python35/lib/python3.5/site-packages (from missingno)\n",
      "Requirement not upgraded as not directly required: numpy in /opt/conda/envs/DSX-Python35/lib/python3.5/site-packages (from missingno)\n",
      "Requirement not upgraded as not directly required: pandas in /opt/conda/envs/DSX-Python35/lib/python3.5/site-packages (from seaborn->missingno)\n",
      "Requirement not upgraded as not directly required: six>=1.10 in /opt/conda/envs/DSX-Python35/lib/python3.5/site-packages (from matplotlib->missingno)\n",
      "Requirement not upgraded as not directly required: python-dateutil>=2.0 in /opt/conda/envs/DSX-Python35/lib/python3.5/site-packages (from matplotlib->missingno)\n",
      "Requirement not upgraded as not directly required: pytz in /opt/conda/envs/DSX-Python35/lib/python3.5/site-packages (from matplotlib->missingno)\n",
      "Requirement not upgraded as not directly required: cycler>=0.10 in /opt/conda/envs/DSX-Python35/lib/python3.5/site-packages (from matplotlib->missingno)\n",
      "Requirement not upgraded as not directly required: pyparsing!=2.0.4,!=2.1.2,!=2.1.6,>=2.0.1 in /opt/conda/envs/DSX-Python35/lib/python3.5/site-packages (from matplotlib->missingno)\n"
     ]
    }
   ],
   "source": [
    "!pip install missingno"
   ]
  },
  {
   "cell_type": "code",
   "execution_count": 6,
   "metadata": {},
   "outputs": [
    {
     "name": "stdout",
     "output_type": "stream",
     "text": [
      "Requirement not upgraded as not directly required: TextBlob in /opt/conda/envs/DSX-Python35/lib/python3.5/site-packages\n",
      "Requirement not upgraded as not directly required: nltk>=3.1 in /opt/conda/envs/DSX-Python35/lib/python3.5/site-packages (from TextBlob)\n",
      "Requirement not upgraded as not directly required: six in /opt/conda/envs/DSX-Python35/lib/python3.5/site-packages (from nltk>=3.1->TextBlob)\n"
     ]
    }
   ],
   "source": [
    "!pip install TextBlob"
   ]
  },
  {
   "cell_type": "code",
   "execution_count": 7,
   "metadata": {},
   "outputs": [
    {
     "name": "stderr",
     "output_type": "stream",
     "text": [
      "/opt/conda/envs/DSX-Python35/lib/python3.5/site-packages/ipykernel/__main__.py:9: UserWarning: ignore\n"
     ]
    }
   ],
   "source": [
    "import numpy as np\n",
    "import pandas as pd\n",
    "import matplotlib.pyplot as plt\n",
    "import seaborn as sns\n",
    "import scipy\n",
    "from scipy.stats.stats import pearsonr\n",
    "from sklearn.ensemble import ExtraTreesClassifier\n",
    "import warnings\n",
    "warnings.warn(\"ignore\")\n",
    "\n",
    "%matplotlib inline"
   ]
  },
  {
   "cell_type": "markdown",
   "metadata": {},
   "source": [
    "This notebook answers the Question 3 - Does the Complaint Type, that you have identified in response to Question 1, have an obvious relationship with any particular characteristic or characteristics of the Houses?"
   ]
  },
  {
   "cell_type": "markdown",
   "metadata": {},
   "source": [
    "## Droping unnecessary features and cleaning dataset 2"
   ]
  },
  {
   "cell_type": "code",
   "execution_count": 8,
   "metadata": {},
   "outputs": [],
   "source": [
    "df2 = df2[['Address','BldgArea','BldgDepth', 'BuiltFAR', 'CommFAR', 'FacilFAR', 'Lot', 'LotArea', \n",
    "              'LotDepth', 'NumBldgs', 'NumFloors', 'OfficeArea', 'ResArea', 'ResidFAR', 'RetailArea', \n",
    "              'YearBuilt', 'YearAlter1', 'ZipCode', 'YCoord', 'XCoord']]"
   ]
  },
  {
   "cell_type": "code",
   "execution_count": 9,
   "metadata": {},
   "outputs": [
    {
     "data": {
      "text/plain": [
       "(89854, 20)"
      ]
     },
     "execution_count": 9,
     "metadata": {},
     "output_type": "execute_result"
    }
   ],
   "source": [
    "# What are number of rows and columns\n",
    "df2.shape"
   ]
  },
  {
   "cell_type": "code",
   "execution_count": 10,
   "metadata": {},
   "outputs": [
    {
     "data": {
      "text/plain": [
       "array(['Address', 'BldgArea', 'BldgDepth', 'BuiltFAR', 'CommFAR',\n",
       "       'FacilFAR', 'Lot', 'LotArea', 'LotDepth', 'NumBldgs', 'NumFloors',\n",
       "       'OfficeArea', 'ResArea', 'ResidFAR', 'RetailArea', 'YearBuilt',\n",
       "       'YearAlter1', 'ZipCode', 'YCoord', 'XCoord'], dtype=object)"
      ]
     },
     "execution_count": 10,
     "metadata": {},
     "output_type": "execute_result"
    }
   ],
   "source": [
    "# Are there any suspicious variables?\n",
    "df2.columns.values"
   ]
  },
  {
   "cell_type": "code",
   "execution_count": 11,
   "metadata": {},
   "outputs": [
    {
     "data": {
      "text/plain": [
       "Address        object\n",
       "BldgArea        int64\n",
       "BldgDepth     float64\n",
       "BuiltFAR      float64\n",
       "CommFAR       float64\n",
       "FacilFAR      float64\n",
       "Lot             int64\n",
       "LotArea         int64\n",
       "LotDepth      float64\n",
       "NumBldgs        int64\n",
       "NumFloors     float64\n",
       "OfficeArea      int64\n",
       "ResArea         int64\n",
       "ResidFAR      float64\n",
       "RetailArea      int64\n",
       "YearBuilt       int64\n",
       "YearAlter1      int64\n",
       "ZipCode       float64\n",
       "YCoord        float64\n",
       "XCoord        float64\n",
       "dtype: object"
      ]
     },
     "execution_count": 11,
     "metadata": {},
     "output_type": "execute_result"
    }
   ],
   "source": [
    "# Display the variable formats\n",
    "df2.dtypes"
   ]
  },
  {
   "cell_type": "code",
   "execution_count": 12,
   "metadata": {},
   "outputs": [
    {
     "data": {
      "text/html": [
       "<div>\n",
       "<style scoped>\n",
       "    .dataframe tbody tr th:only-of-type {\n",
       "        vertical-align: middle;\n",
       "    }\n",
       "\n",
       "    .dataframe tbody tr th {\n",
       "        vertical-align: top;\n",
       "    }\n",
       "\n",
       "    .dataframe thead th {\n",
       "        text-align: right;\n",
       "    }\n",
       "</style>\n",
       "<table border=\"1\" class=\"dataframe\">\n",
       "  <thead>\n",
       "    <tr style=\"text-align: right;\">\n",
       "      <th></th>\n",
       "      <th>Address</th>\n",
       "      <th>BldgArea</th>\n",
       "      <th>BldgDepth</th>\n",
       "      <th>BuiltFAR</th>\n",
       "      <th>CommFAR</th>\n",
       "      <th>FacilFAR</th>\n",
       "      <th>Lot</th>\n",
       "      <th>LotArea</th>\n",
       "      <th>LotDepth</th>\n",
       "      <th>NumBldgs</th>\n",
       "      <th>NumFloors</th>\n",
       "      <th>OfficeArea</th>\n",
       "      <th>ResArea</th>\n",
       "      <th>ResidFAR</th>\n",
       "      <th>RetailArea</th>\n",
       "      <th>YearBuilt</th>\n",
       "      <th>YearAlter1</th>\n",
       "      <th>ZipCode</th>\n",
       "      <th>YCoord</th>\n",
       "      <th>XCoord</th>\n",
       "    </tr>\n",
       "  </thead>\n",
       "  <tbody>\n",
       "    <tr>\n",
       "      <th>0</th>\n",
       "      <td>122 BRUCKNER BOULEVARD</td>\n",
       "      <td>0</td>\n",
       "      <td>0.0</td>\n",
       "      <td>0.00</td>\n",
       "      <td>5.0</td>\n",
       "      <td>6.5</td>\n",
       "      <td>1</td>\n",
       "      <td>15000</td>\n",
       "      <td>200.0</td>\n",
       "      <td>1</td>\n",
       "      <td>0.0</td>\n",
       "      <td>0</td>\n",
       "      <td>0</td>\n",
       "      <td>6.02</td>\n",
       "      <td>0</td>\n",
       "      <td>0</td>\n",
       "      <td>0</td>\n",
       "      <td>10454.0</td>\n",
       "      <td>232162.0</td>\n",
       "      <td>1005957.0</td>\n",
       "    </tr>\n",
       "    <tr>\n",
       "      <th>1</th>\n",
       "      <td>126 BRUCKNER BOULEVARD</td>\n",
       "      <td>752</td>\n",
       "      <td>16.0</td>\n",
       "      <td>0.05</td>\n",
       "      <td>5.0</td>\n",
       "      <td>6.5</td>\n",
       "      <td>4</td>\n",
       "      <td>13770</td>\n",
       "      <td>100.0</td>\n",
       "      <td>2</td>\n",
       "      <td>1.0</td>\n",
       "      <td>272</td>\n",
       "      <td>0</td>\n",
       "      <td>6.02</td>\n",
       "      <td>0</td>\n",
       "      <td>1931</td>\n",
       "      <td>1994</td>\n",
       "      <td>10454.0</td>\n",
       "      <td>232156.0</td>\n",
       "      <td>1006076.0</td>\n",
       "    </tr>\n",
       "    <tr>\n",
       "      <th>2</th>\n",
       "      <td>138 BRUCKNER BOULEVARD</td>\n",
       "      <td>39375</td>\n",
       "      <td>200.0</td>\n",
       "      <td>1.13</td>\n",
       "      <td>5.0</td>\n",
       "      <td>6.5</td>\n",
       "      <td>10</td>\n",
       "      <td>35000</td>\n",
       "      <td>200.0</td>\n",
       "      <td>1</td>\n",
       "      <td>2.0</td>\n",
       "      <td>0</td>\n",
       "      <td>0</td>\n",
       "      <td>6.02</td>\n",
       "      <td>0</td>\n",
       "      <td>1931</td>\n",
       "      <td>0</td>\n",
       "      <td>10454.0</td>\n",
       "      <td>232036.0</td>\n",
       "      <td>1006187.0</td>\n",
       "    </tr>\n",
       "    <tr>\n",
       "      <th>3</th>\n",
       "      <td>144 BRUCKNER BOULEVARD</td>\n",
       "      <td>12500</td>\n",
       "      <td>85.0</td>\n",
       "      <td>5.00</td>\n",
       "      <td>5.0</td>\n",
       "      <td>6.5</td>\n",
       "      <td>17</td>\n",
       "      <td>2500</td>\n",
       "      <td>100.0</td>\n",
       "      <td>1</td>\n",
       "      <td>5.0</td>\n",
       "      <td>0</td>\n",
       "      <td>12500</td>\n",
       "      <td>6.02</td>\n",
       "      <td>0</td>\n",
       "      <td>1931</td>\n",
       "      <td>2001</td>\n",
       "      <td>10454.0</td>\n",
       "      <td>232033.0</td>\n",
       "      <td>1006299.0</td>\n",
       "    </tr>\n",
       "    <tr>\n",
       "      <th>4</th>\n",
       "      <td>148 BRUCKNER BOULEVARD</td>\n",
       "      <td>8595</td>\n",
       "      <td>70.0</td>\n",
       "      <td>4.58</td>\n",
       "      <td>5.0</td>\n",
       "      <td>6.5</td>\n",
       "      <td>18</td>\n",
       "      <td>1875</td>\n",
       "      <td>75.0</td>\n",
       "      <td>1</td>\n",
       "      <td>5.0</td>\n",
       "      <td>0</td>\n",
       "      <td>6876</td>\n",
       "      <td>6.02</td>\n",
       "      <td>1719</td>\n",
       "      <td>1920</td>\n",
       "      <td>2009</td>\n",
       "      <td>10454.0</td>\n",
       "      <td>232040.0</td>\n",
       "      <td>1006363.0</td>\n",
       "    </tr>\n",
       "  </tbody>\n",
       "</table>\n",
       "</div>"
      ],
      "text/plain": [
       "                  Address  BldgArea  BldgDepth  BuiltFAR  CommFAR  FacilFAR  \\\n",
       "0  122 BRUCKNER BOULEVARD         0        0.0      0.00      5.0       6.5   \n",
       "1  126 BRUCKNER BOULEVARD       752       16.0      0.05      5.0       6.5   \n",
       "2  138 BRUCKNER BOULEVARD     39375      200.0      1.13      5.0       6.5   \n",
       "3  144 BRUCKNER BOULEVARD     12500       85.0      5.00      5.0       6.5   \n",
       "4  148 BRUCKNER BOULEVARD      8595       70.0      4.58      5.0       6.5   \n",
       "\n",
       "   Lot  LotArea  LotDepth  NumBldgs  NumFloors  OfficeArea  ResArea  ResidFAR  \\\n",
       "0    1    15000     200.0         1        0.0           0        0      6.02   \n",
       "1    4    13770     100.0         2        1.0         272        0      6.02   \n",
       "2   10    35000     200.0         1        2.0           0        0      6.02   \n",
       "3   17     2500     100.0         1        5.0           0    12500      6.02   \n",
       "4   18     1875      75.0         1        5.0           0     6876      6.02   \n",
       "\n",
       "   RetailArea  YearBuilt  YearAlter1  ZipCode    YCoord     XCoord  \n",
       "0           0          0           0  10454.0  232162.0  1005957.0  \n",
       "1           0       1931        1994  10454.0  232156.0  1006076.0  \n",
       "2           0       1931           0  10454.0  232036.0  1006187.0  \n",
       "3           0       1931        2001  10454.0  232033.0  1006299.0  \n",
       "4        1719       1920        2009  10454.0  232040.0  1006363.0  "
      ]
     },
     "execution_count": 12,
     "metadata": {},
     "output_type": "execute_result"
    }
   ],
   "source": [
    "# Print the observations\n",
    "df2.head()"
   ]
  },
  {
   "cell_type": "code",
   "execution_count": 13,
   "metadata": {},
   "outputs": [
    {
     "data": {
      "text/plain": [
       "Address         69\n",
       "BldgArea         0\n",
       "BldgDepth        0\n",
       "BuiltFAR         0\n",
       "CommFAR          0\n",
       "FacilFAR         0\n",
       "Lot              0\n",
       "LotArea          0\n",
       "LotDepth         0\n",
       "NumBldgs         0\n",
       "NumFloors        0\n",
       "OfficeArea       0\n",
       "ResArea          0\n",
       "ResidFAR         0\n",
       "RetailArea       0\n",
       "YearBuilt        0\n",
       "YearAlter1       0\n",
       "ZipCode        329\n",
       "YCoord        3259\n",
       "XCoord        3259\n",
       "dtype: int64"
      ]
     },
     "execution_count": 13,
     "metadata": {},
     "output_type": "execute_result"
    }
   ],
   "source": [
    "# Are there any variables with missing values?\n",
    "df2.isnull().sum()"
   ]
  },
  {
   "cell_type": "code",
   "execution_count": 14,
   "metadata": {},
   "outputs": [],
   "source": [
    "# Drop all missing values from BK dataset\n",
    "pd.options.mode.chained_assignment = None\n",
    "df2.dropna(axis=0, inplace=True)"
   ]
  },
  {
   "cell_type": "code",
   "execution_count": 15,
   "metadata": {},
   "outputs": [
    {
     "data": {
      "text/plain": [
       "Address       0\n",
       "BldgArea      0\n",
       "BldgDepth     0\n",
       "BuiltFAR      0\n",
       "CommFAR       0\n",
       "FacilFAR      0\n",
       "Lot           0\n",
       "LotArea       0\n",
       "LotDepth      0\n",
       "NumBldgs      0\n",
       "NumFloors     0\n",
       "OfficeArea    0\n",
       "ResArea       0\n",
       "ResidFAR      0\n",
       "RetailArea    0\n",
       "YearBuilt     0\n",
       "YearAlter1    0\n",
       "ZipCode       0\n",
       "YCoord        0\n",
       "XCoord        0\n",
       "dtype: int64"
      ]
     },
     "execution_count": 15,
     "metadata": {},
     "output_type": "execute_result"
    }
   ],
   "source": [
    "df2.isnull().sum()"
   ]
  },
  {
   "cell_type": "code",
   "execution_count": 16,
   "metadata": {},
   "outputs": [
    {
     "data": {
      "text/plain": [
       "(86591, 20)"
      ]
     },
     "execution_count": 16,
     "metadata": {},
     "output_type": "execute_result"
    }
   ],
   "source": [
    "df2.shape"
   ]
  },
  {
   "cell_type": "code",
   "execution_count": 17,
   "metadata": {},
   "outputs": [],
   "source": [
    "# Change column Zipcode to incident_zip\n",
    "df2.columns = ['Address','BldgArea','BldgDepth', 'BuiltFAR', 'CommFAR', 'FacilFAR', 'Lot', 'LotArea', \n",
    "              'LotDepth', 'NumBldgs', 'NumFloors', 'OfficeArea', 'ResArea', 'ResidFAR', 'RetailArea', \n",
    "              'YearBuilt', 'YearAlter1', 'incident_zip', 'YCoord', 'XCoord']"
   ]
  },
  {
   "cell_type": "code",
   "execution_count": 18,
   "metadata": {},
   "outputs": [
    {
     "data": {
      "text/plain": [
       "array(['Address', 'BldgArea', 'BldgDepth', 'BuiltFAR', 'CommFAR',\n",
       "       'FacilFAR', 'Lot', 'LotArea', 'LotDepth', 'NumBldgs', 'NumFloors',\n",
       "       'OfficeArea', 'ResArea', 'ResidFAR', 'RetailArea', 'YearBuilt',\n",
       "       'YearAlter1', 'incident_zip', 'YCoord', 'XCoord'], dtype=object)"
      ]
     },
     "execution_count": 18,
     "metadata": {},
     "output_type": "execute_result"
    }
   ],
   "source": [
    "df2.columns.values"
   ]
  },
  {
   "cell_type": "code",
   "execution_count": 19,
   "metadata": {},
   "outputs": [
    {
     "data": {
      "text/plain": [
       "10451.0     1128\n",
       "10452.0     1478\n",
       "10453.0     2041\n",
       "10454.0     1649\n",
       "10455.0     1754\n",
       "10456.0     2802\n",
       "10457.0     2956\n",
       "10458.0     2721\n",
       "10459.0     2558\n",
       "10460.0     2805\n",
       "10461.0     7324\n",
       "10462.0     4513\n",
       "10463.0     2140\n",
       "10464.0     1403\n",
       "10465.0     7853\n",
       "10466.0     8965\n",
       "10467.0     4577\n",
       "10468.0     1580\n",
       "10469.0    11078\n",
       "10470.0     2269\n",
       "10471.0     2135\n",
       "10472.0     4266\n",
       "10473.0     4719\n",
       "10474.0     1153\n",
       "10475.0      723\n",
       "11370.0        1\n",
       "Name: incident_zip, dtype: int64"
      ]
     },
     "execution_count": 19,
     "metadata": {},
     "output_type": "execute_result"
    }
   ],
   "source": [
    "df2['incident_zip'].value_counts(sort=False)"
   ]
  },
  {
   "cell_type": "markdown",
   "metadata": {},
   "source": [
    "Using domain knowledge on the dataset, I decided to drop the following columns: BldgArea, BldgDepth, BuiltFAR, CommFAR, FacilFAR, Lot, LotArea, LotDepth, OfficeArea, ResArea, ResidFAR, RetailArea, YCoord and XCoord.\n",
    "\n",
    "Features which represents area sizes have a lot of zeros which will impact model training later will be dropped."
   ]
  },
  {
   "cell_type": "code",
   "execution_count": 20,
   "metadata": {},
   "outputs": [],
   "source": [
    "df2.drop(['BldgArea','BldgDepth', 'BuiltFAR', 'CommFAR', 'FacilFAR', 'Lot', 'LotArea', \n",
    "              'LotDepth','OfficeArea', 'ResArea', 'ResidFAR', 'RetailArea', 'YCoord', 'XCoord'], axis=1, inplace=True)"
   ]
  },
  {
   "cell_type": "code",
   "execution_count": 21,
   "metadata": {},
   "outputs": [
    {
     "name": "stdout",
     "output_type": "stream",
     "text": [
      "<class 'pandas.core.frame.DataFrame'>\n",
      "Int64Index: 86591 entries, 0 to 89845\n",
      "Data columns (total 6 columns):\n",
      "Address         86591 non-null object\n",
      "NumBldgs        86591 non-null int64\n",
      "NumFloors       86591 non-null float64\n",
      "YearBuilt       86591 non-null int64\n",
      "YearAlter1      86591 non-null int64\n",
      "incident_zip    86591 non-null float64\n",
      "dtypes: float64(2), int64(3), object(1)\n",
      "memory usage: 4.6+ MB\n"
     ]
    }
   ],
   "source": [
    "df2.info()"
   ]
  },
  {
   "cell_type": "code",
   "execution_count": 22,
   "metadata": {},
   "outputs": [
    {
     "data": {
      "text/plain": [
       "0.00      3613\n",
       "2.00     42135\n",
       "4.00      1700\n",
       "8.00       154\n",
       "0.50         1\n",
       "1.33         1\n",
       "25.00        5\n",
       "18.00       10\n",
       "44.00        1\n",
       "33.00        2\n",
       "10.00       43\n",
       "3.50        61\n",
       "22.00        7\n",
       "4.50         1\n",
       "17.00        5\n",
       "3.00     15186\n",
       "20.00       24\n",
       "1.50      1528\n",
       "14.00       42\n",
       "3.75        18\n",
       "2.50      5075\n",
       "2.67        20\n",
       "42.00        1\n",
       "30.00        5\n",
       "23.00        1\n",
       "13.00       38\n",
       "1.00      8823\n",
       "12.00       48\n",
       "16.00       23\n",
       "9.00        77\n",
       "5.50         1\n",
       "5.00      3236\n",
       "2.25         9\n",
       "28.00        2\n",
       "11.00       37\n",
       "19.00       12\n",
       "6.00      2171\n",
       "1.75       715\n",
       "24.00        1\n",
       "1.67       341\n",
       "7.00       231\n",
       "2.75      1163\n",
       "1.25         1\n",
       "21.00       12\n",
       "15.00       11\n",
       "Name: NumFloors, dtype: int64"
      ]
     },
     "execution_count": 22,
     "metadata": {},
     "output_type": "execute_result"
    }
   ],
   "source": [
    "# Eliminate zero number of floors as they are N/A info.\n",
    "df2['NumFloors'].value_counts(sort=False)"
   ]
  },
  {
   "cell_type": "code",
   "execution_count": 23,
   "metadata": {},
   "outputs": [
    {
     "data": {
      "text/plain": [
       "Address         3613\n",
       "NumBldgs        3613\n",
       "NumFloors       3613\n",
       "YearBuilt       3613\n",
       "YearAlter1      3613\n",
       "incident_zip    3613\n",
       "dtype: int64"
      ]
     },
     "execution_count": 23,
     "metadata": {},
     "output_type": "execute_result"
    }
   ],
   "source": [
    "df2[df2.NumFloors == 0].count()"
   ]
  },
  {
   "cell_type": "code",
   "execution_count": 24,
   "metadata": {},
   "outputs": [],
   "source": [
    "df2 = df2[df2.NumFloors != 0]"
   ]
  },
  {
   "cell_type": "code",
   "execution_count": 25,
   "metadata": {},
   "outputs": [
    {
     "data": {
      "text/plain": [
       "Address         0\n",
       "NumBldgs        0\n",
       "NumFloors       0\n",
       "YearBuilt       0\n",
       "YearAlter1      0\n",
       "incident_zip    0\n",
       "dtype: int64"
      ]
     },
     "execution_count": 25,
     "metadata": {},
     "output_type": "execute_result"
    }
   ],
   "source": [
    "df2[df2.NumFloors == 0].count()"
   ]
  },
  {
   "cell_type": "code",
   "execution_count": 26,
   "metadata": {},
   "outputs": [
    {
     "data": {
      "text/plain": [
       "1.00      8823\n",
       "2.00     42135\n",
       "16.00       23\n",
       "8.00       154\n",
       "0.50         1\n",
       "1.33         1\n",
       "25.00        5\n",
       "18.00       10\n",
       "44.00        1\n",
       "33.00        2\n",
       "10.00       43\n",
       "3.50        61\n",
       "22.00        7\n",
       "4.50         1\n",
       "17.00        5\n",
       "3.00     15186\n",
       "20.00       24\n",
       "1.50      1528\n",
       "14.00       42\n",
       "3.75        18\n",
       "2.50      5075\n",
       "2.67        20\n",
       "42.00        1\n",
       "30.00        5\n",
       "23.00        1\n",
       "13.00       38\n",
       "4.00      1700\n",
       "12.00       48\n",
       "9.00        77\n",
       "5.50         1\n",
       "5.00      3236\n",
       "2.25         9\n",
       "28.00        2\n",
       "11.00       37\n",
       "19.00       12\n",
       "6.00      2171\n",
       "1.75       715\n",
       "24.00        1\n",
       "1.67       341\n",
       "7.00       231\n",
       "2.75      1163\n",
       "1.25         1\n",
       "21.00       12\n",
       "15.00       11\n",
       "Name: NumFloors, dtype: int64"
      ]
     },
     "execution_count": 26,
     "metadata": {},
     "output_type": "execute_result"
    }
   ],
   "source": [
    "# Recheck again\n",
    "df2['NumFloors'].value_counts(sort=False)"
   ]
  },
  {
   "cell_type": "code",
   "execution_count": 27,
   "metadata": {},
   "outputs": [
    {
     "data": {
      "text/plain": [
       "<seaborn.axisgrid.PairGrid at 0x7fc8f71834e0>"
      ]
     },
     "execution_count": 27,
     "metadata": {},
     "output_type": "execute_result"
    },
    {
     "data": {
      "image/png": "[encoded data removed]",
      "text/plain": [
       "<matplotlib.figure.Figure at 0x7fc8f71839b0>"
      ]
     },
     "metadata": {},
     "output_type": "display_data"
    }
   ],
   "source": [
    "sns.pairplot(df2)"
   ]
  },
  {
   "cell_type": "code",
   "execution_count": 28,
   "metadata": {},
   "outputs": [
    {
     "data": {
      "text/html": [
       "<div>\n",
       "<style scoped>\n",
       "    .dataframe tbody tr th:only-of-type {\n",
       "        vertical-align: middle;\n",
       "    }\n",
       "\n",
       "    .dataframe tbody tr th {\n",
       "        vertical-align: top;\n",
       "    }\n",
       "\n",
       "    .dataframe thead th {\n",
       "        text-align: right;\n",
       "    }\n",
       "</style>\n",
       "<table border=\"1\" class=\"dataframe\">\n",
       "  <thead>\n",
       "    <tr style=\"text-align: right;\">\n",
       "      <th></th>\n",
       "      <th>Address</th>\n",
       "      <th>NumBldgs</th>\n",
       "      <th>NumFloors</th>\n",
       "      <th>YearBuilt</th>\n",
       "      <th>YearAlter1</th>\n",
       "      <th>incident_zip</th>\n",
       "    </tr>\n",
       "  </thead>\n",
       "  <tbody>\n",
       "    <tr>\n",
       "      <th>1</th>\n",
       "      <td>126 BRUCKNER BOULEVARD</td>\n",
       "      <td>2</td>\n",
       "      <td>1.0</td>\n",
       "      <td>1931</td>\n",
       "      <td>1994</td>\n",
       "      <td>10454.0</td>\n",
       "    </tr>\n",
       "    <tr>\n",
       "      <th>2</th>\n",
       "      <td>138 BRUCKNER BOULEVARD</td>\n",
       "      <td>1</td>\n",
       "      <td>2.0</td>\n",
       "      <td>1931</td>\n",
       "      <td>0</td>\n",
       "      <td>10454.0</td>\n",
       "    </tr>\n",
       "    <tr>\n",
       "      <th>3</th>\n",
       "      <td>144 BRUCKNER BOULEVARD</td>\n",
       "      <td>1</td>\n",
       "      <td>5.0</td>\n",
       "      <td>1931</td>\n",
       "      <td>2001</td>\n",
       "      <td>10454.0</td>\n",
       "    </tr>\n",
       "    <tr>\n",
       "      <th>4</th>\n",
       "      <td>148 BRUCKNER BOULEVARD</td>\n",
       "      <td>1</td>\n",
       "      <td>5.0</td>\n",
       "      <td>1920</td>\n",
       "      <td>2009</td>\n",
       "      <td>10454.0</td>\n",
       "    </tr>\n",
       "    <tr>\n",
       "      <th>6</th>\n",
       "      <td>519 EAST 132 STREET</td>\n",
       "      <td>2</td>\n",
       "      <td>1.0</td>\n",
       "      <td>1931</td>\n",
       "      <td>0</td>\n",
       "      <td>10454.0</td>\n",
       "    </tr>\n",
       "  </tbody>\n",
       "</table>\n",
       "</div>"
      ],
      "text/plain": [
       "                  Address  NumBldgs  NumFloors  YearBuilt  YearAlter1  \\\n",
       "1  126 BRUCKNER BOULEVARD         2        1.0       1931        1994   \n",
       "2  138 BRUCKNER BOULEVARD         1        2.0       1931           0   \n",
       "3  144 BRUCKNER BOULEVARD         1        5.0       1931        2001   \n",
       "4  148 BRUCKNER BOULEVARD         1        5.0       1920        2009   \n",
       "6     519 EAST 132 STREET         2        1.0       1931           0   \n",
       "\n",
       "   incident_zip  \n",
       "1       10454.0  \n",
       "2       10454.0  \n",
       "3       10454.0  \n",
       "4       10454.0  \n",
       "6       10454.0  "
      ]
     },
     "execution_count": 28,
     "metadata": {},
     "output_type": "execute_result"
    }
   ],
   "source": [
    "df2.head()"
   ]
  },
  {
   "cell_type": "code",
   "execution_count": 29,
   "metadata": {},
   "outputs": [
    {
     "data": {
      "text/plain": [
       "(82978, 6)"
      ]
     },
     "execution_count": 29,
     "metadata": {},
     "output_type": "execute_result"
    }
   ],
   "source": [
    "df2.shape"
   ]
  },
  {
   "cell_type": "markdown",
   "metadata": {},
   "source": [
    "## Droping unnecessary features and cleaning dataset 1 as for questions 1 and 2"
   ]
  },
  {
   "cell_type": "code",
   "execution_count": 30,
   "metadata": {},
   "outputs": [
    {
     "data": {
      "text/html": [
       "<div>\n",
       "<style scoped>\n",
       "    .dataframe tbody tr th:only-of-type {\n",
       "        vertical-align: middle;\n",
       "    }\n",
       "\n",
       "    .dataframe tbody tr th {\n",
       "        vertical-align: top;\n",
       "    }\n",
       "\n",
       "    .dataframe thead th {\n",
       "        text-align: right;\n",
       "    }\n",
       "</style>\n",
       "<table border=\"1\" class=\"dataframe\">\n",
       "  <thead>\n",
       "    <tr style=\"text-align: right;\">\n",
       "      <th></th>\n",
       "      <th>borough</th>\n",
       "      <th>city</th>\n",
       "      <th>complaint_type</th>\n",
       "      <th>incident_address</th>\n",
       "      <th>incident_zip</th>\n",
       "    </tr>\n",
       "  </thead>\n",
       "  <tbody>\n",
       "    <tr>\n",
       "      <th>0</th>\n",
       "      <td>BROOKLYN</td>\n",
       "      <td>BROOKLYN</td>\n",
       "      <td>DOOR/WINDOW</td>\n",
       "      <td>397 1 STREET</td>\n",
       "      <td>11215.0</td>\n",
       "    </tr>\n",
       "    <tr>\n",
       "      <th>1</th>\n",
       "      <td>MANHATTAN</td>\n",
       "      <td>NEW YORK</td>\n",
       "      <td>DOOR/WINDOW</td>\n",
       "      <td>3851 BROADWAY</td>\n",
       "      <td>10032.0</td>\n",
       "    </tr>\n",
       "    <tr>\n",
       "      <th>2</th>\n",
       "      <td>MANHATTAN</td>\n",
       "      <td>NEW YORK</td>\n",
       "      <td>DOOR/WINDOW</td>\n",
       "      <td>3851 BROADWAY</td>\n",
       "      <td>10032.0</td>\n",
       "    </tr>\n",
       "    <tr>\n",
       "      <th>3</th>\n",
       "      <td>BROOKLYN</td>\n",
       "      <td>BROOKLYN</td>\n",
       "      <td>DOOR/WINDOW</td>\n",
       "      <td>1555 NOSTRAND AVENUE</td>\n",
       "      <td>11226.0</td>\n",
       "    </tr>\n",
       "    <tr>\n",
       "      <th>4</th>\n",
       "      <td>BRONX</td>\n",
       "      <td>BRONX</td>\n",
       "      <td>DOOR/WINDOW</td>\n",
       "      <td>1808 MULFORD AVENUE</td>\n",
       "      <td>10461.0</td>\n",
       "    </tr>\n",
       "  </tbody>\n",
       "</table>\n",
       "</div>"
      ],
      "text/plain": [
       "     borough      city complaint_type      incident_address  incident_zip\n",
       "0   BROOKLYN  BROOKLYN    DOOR/WINDOW          397 1 STREET       11215.0\n",
       "1  MANHATTAN  NEW YORK    DOOR/WINDOW         3851 BROADWAY       10032.0\n",
       "2  MANHATTAN  NEW YORK    DOOR/WINDOW         3851 BROADWAY       10032.0\n",
       "3   BROOKLYN  BROOKLYN    DOOR/WINDOW  1555 NOSTRAND AVENUE       11226.0\n",
       "4      BRONX     BRONX    DOOR/WINDOW   1808 MULFORD AVENUE       10461.0"
      ]
     },
     "execution_count": 30,
     "metadata": {},
     "output_type": "execute_result"
    }
   ],
   "source": [
    "df1.drop(columns = ['address_type','closed_date','created_date','latitude','location_type','longitude','resolution_description','status','street_name','unique_key'], inplace=True)\n",
    "df1['complaint_type'] = np.where(df1['complaint_type']=='HEATING','HEAT/HOT WATER',df1['complaint_type'])\n",
    "df1.dropna(axis=0, inplace=True)\n",
    "df1[(df1['complaint_type'] == 'HEAT/HOT WATER') & (df1['borough'] == 'BROOKLYN')]\n",
    "df1[(df1['complaint_type'] == 'HEAT/HOT WATER') & (df1['borough'] == 'BRONX')]\n",
    "df1[(df1['complaint_type'] == 'HEAT/HOT WATER') & (df1['borough'] == 'MANHATTAN')]\n",
    "df1[(df1['complaint_type'] == 'HEAT/HOT WATER') & (df1['borough'] == 'STATEN ISLAND')]\n",
    "df1[(df1['complaint_type'] == 'HEAT/HOT WATER') & (df1['borough'] == 'QUEENS')]\n",
    "stats = df1[df1['complaint_type'] == 'HEAT/HOT WATER'].groupby('borough')\n",
    "stats = df1[df1['complaint_type'] == 'HEAT/HOT WATER'].groupby('incident_zip')\n",
    "stats = df1[df1['complaint_type'] == 'HEAT/HOT WATER'].groupby(['borough','incident_zip','incident_address'])\n",
    "df1[df1.borough == \"Unspecified\"]\n",
    "df1 = df1[~df1.borough.str.contains(\"Unspecified\")]\n",
    "df1.head()"
   ]
  },
  {
   "cell_type": "code",
   "execution_count": 31,
   "metadata": {},
   "outputs": [
    {
     "data": {
      "text/plain": [
       "borough             1590804\n",
       "city                1590804\n",
       "complaint_type      1590804\n",
       "incident_address    1590804\n",
       "incident_zip        1590804\n",
       "dtype: int64"
      ]
     },
     "execution_count": 31,
     "metadata": {},
     "output_type": "execute_result"
    }
   ],
   "source": [
    "df1[df1.borough == \"BROOKLYN\"].count()"
   ]
  },
  {
   "cell_type": "code",
   "execution_count": 32,
   "metadata": {},
   "outputs": [
    {
     "data": {
      "text/plain": [
       "borough             951843\n",
       "city                951843\n",
       "complaint_type      951843\n",
       "incident_address    951843\n",
       "incident_zip        951843\n",
       "dtype: int64"
      ]
     },
     "execution_count": 32,
     "metadata": {},
     "output_type": "execute_result"
    }
   ],
   "source": [
    "df1[df1.borough == \"MANHATTAN\"].count()"
   ]
  },
  {
   "cell_type": "code",
   "execution_count": 33,
   "metadata": {},
   "outputs": [
    {
     "data": {
      "text/plain": [
       "borough             582722\n",
       "city                582722\n",
       "complaint_type      582722\n",
       "incident_address    582722\n",
       "incident_zip        582722\n",
       "dtype: int64"
      ]
     },
     "execution_count": 33,
     "metadata": {},
     "output_type": "execute_result"
    }
   ],
   "source": [
    "df1[df1.borough == \"QUEENS\"].count()"
   ]
  },
  {
   "cell_type": "code",
   "execution_count": 34,
   "metadata": {},
   "outputs": [
    {
     "data": {
      "text/plain": [
       "borough             79618\n",
       "city                79618\n",
       "complaint_type      79618\n",
       "incident_address    79618\n",
       "incident_zip        79618\n",
       "dtype: int64"
      ]
     },
     "execution_count": 34,
     "metadata": {},
     "output_type": "execute_result"
    }
   ],
   "source": [
    "df1[df1.borough == \"STATEN ISLAND\"].count()"
   ]
  },
  {
   "cell_type": "code",
   "execution_count": 35,
   "metadata": {},
   "outputs": [
    {
     "data": {
      "text/plain": [
       "borough             1457952\n",
       "city                1457952\n",
       "complaint_type      1457952\n",
       "incident_address    1457952\n",
       "incident_zip        1457952\n",
       "dtype: int64"
      ]
     },
     "execution_count": 35,
     "metadata": {},
     "output_type": "execute_result"
    }
   ],
   "source": [
    "df1[df1.borough == \"BRONX\"].count()"
   ]
  },
  {
   "cell_type": "markdown",
   "metadata": {},
   "source": [
    "## Drop except BRONX for borough feature"
   ]
  },
  {
   "cell_type": "code",
   "execution_count": 36,
   "metadata": {},
   "outputs": [
    {
     "data": {
      "text/plain": [
       "(1457952, 5)"
      ]
     },
     "execution_count": 36,
     "metadata": {},
     "output_type": "execute_result"
    }
   ],
   "source": [
    "df1 = df1[~df1.borough.str.contains(\"BROOKLYN\")] ## Drop BROOKLYN\n",
    "df1 = df1[~df1.borough.str.contains(\"MANHATTAN\")] ## Drop MANHATTAN\n",
    "df1 = df1[~df1.borough.str.contains(\"STATEN ISLAND\")] ## Drop STATEN ISLAND\n",
    "df1 = df1[~df1.borough.str.contains(\"QUEENS\")] ## Drop QUEENS\n",
    "df1.shape"
   ]
  },
  {
   "cell_type": "code",
   "execution_count": 37,
   "metadata": {},
   "outputs": [
    {
     "data": {
      "text/html": [
       "<div>\n",
       "<style scoped>\n",
       "    .dataframe tbody tr th:only-of-type {\n",
       "        vertical-align: middle;\n",
       "    }\n",
       "\n",
       "    .dataframe tbody tr th {\n",
       "        vertical-align: top;\n",
       "    }\n",
       "\n",
       "    .dataframe thead th {\n",
       "        text-align: right;\n",
       "    }\n",
       "</style>\n",
       "<table border=\"1\" class=\"dataframe\">\n",
       "  <thead>\n",
       "    <tr style=\"text-align: right;\">\n",
       "      <th></th>\n",
       "      <th>borough</th>\n",
       "      <th>city</th>\n",
       "      <th>complaint_type</th>\n",
       "      <th>incident_address</th>\n",
       "      <th>incident_zip</th>\n",
       "    </tr>\n",
       "  </thead>\n",
       "  <tbody>\n",
       "    <tr>\n",
       "      <th>4</th>\n",
       "      <td>BRONX</td>\n",
       "      <td>BRONX</td>\n",
       "      <td>DOOR/WINDOW</td>\n",
       "      <td>1808 MULFORD AVENUE</td>\n",
       "      <td>10461.0</td>\n",
       "    </tr>\n",
       "    <tr>\n",
       "      <th>6</th>\n",
       "      <td>BRONX</td>\n",
       "      <td>BRONX</td>\n",
       "      <td>DOOR/WINDOW</td>\n",
       "      <td>2414 EAST TREMONT AVENUE</td>\n",
       "      <td>10461.0</td>\n",
       "    </tr>\n",
       "    <tr>\n",
       "      <th>12</th>\n",
       "      <td>BRONX</td>\n",
       "      <td>BRONX</td>\n",
       "      <td>SAFETY</td>\n",
       "      <td>488 EAST  163 STREET</td>\n",
       "      <td>10451.0</td>\n",
       "    </tr>\n",
       "    <tr>\n",
       "      <th>13</th>\n",
       "      <td>BRONX</td>\n",
       "      <td>BRONX</td>\n",
       "      <td>HEAT/HOT WATER</td>\n",
       "      <td>1505 TOWNSEND AVENUE</td>\n",
       "      <td>10452.0</td>\n",
       "    </tr>\n",
       "    <tr>\n",
       "      <th>14</th>\n",
       "      <td>BRONX</td>\n",
       "      <td>BRONX</td>\n",
       "      <td>HEAT/HOT WATER</td>\n",
       "      <td>1390 PROSPECT AVENUE</td>\n",
       "      <td>10459.0</td>\n",
       "    </tr>\n",
       "  </tbody>\n",
       "</table>\n",
       "</div>"
      ],
      "text/plain": [
       "   borough   city  complaint_type          incident_address  incident_zip\n",
       "4    BRONX  BRONX     DOOR/WINDOW       1808 MULFORD AVENUE       10461.0\n",
       "6    BRONX  BRONX     DOOR/WINDOW  2414 EAST TREMONT AVENUE       10461.0\n",
       "12   BRONX  BRONX          SAFETY      488 EAST  163 STREET       10451.0\n",
       "13   BRONX  BRONX  HEAT/HOT WATER      1505 TOWNSEND AVENUE       10452.0\n",
       "14   BRONX  BRONX  HEAT/HOT WATER      1390 PROSPECT AVENUE       10459.0"
      ]
     },
     "execution_count": 37,
     "metadata": {},
     "output_type": "execute_result"
    }
   ],
   "source": [
    "df1.head()"
   ]
  },
  {
   "cell_type": "markdown",
   "metadata": {},
   "source": [
    "## Drop except HEAT/HOT WATER for complaint_type feature"
   ]
  },
  {
   "cell_type": "code",
   "execution_count": 38,
   "metadata": {},
   "outputs": [],
   "source": [
    "df1 = df1[df1.complaint_type.str.contains(\"HEAT/HOT WATER\")]"
   ]
  },
  {
   "cell_type": "code",
   "execution_count": 39,
   "metadata": {},
   "outputs": [
    {
     "data": {
      "text/plain": [
       "array(['borough', 'city', 'complaint_type', 'incident_address',\n",
       "       'incident_zip'], dtype=object)"
      ]
     },
     "execution_count": 39,
     "metadata": {},
     "output_type": "execute_result"
    }
   ],
   "source": [
    "# Are there any suspicious variables?\n",
    "df1.columns.values"
   ]
  },
  {
   "cell_type": "code",
   "execution_count": 40,
   "metadata": {},
   "outputs": [
    {
     "data": {
      "text/plain": [
       "borough              object\n",
       "city                 object\n",
       "complaint_type       object\n",
       "incident_address     object\n",
       "incident_zip        float64\n",
       "dtype: object"
      ]
     },
     "execution_count": 40,
     "metadata": {},
     "output_type": "execute_result"
    }
   ],
   "source": [
    "# Display the variable formats\n",
    "df1.dtypes"
   ]
  },
  {
   "cell_type": "code",
   "execution_count": 41,
   "metadata": {},
   "outputs": [
    {
     "data": {
      "text/plain": [
       "BRONX    532325\n",
       "Name: borough, dtype: int64"
      ]
     },
     "execution_count": 41,
     "metadata": {},
     "output_type": "execute_result"
    }
   ],
   "source": [
    "df1['borough'].value_counts(sort=False)"
   ]
  },
  {
   "cell_type": "code",
   "execution_count": 42,
   "metadata": {},
   "outputs": [
    {
     "data": {
      "text/plain": [
       "BRONX    532325\n",
       "Name: city, dtype: int64"
      ]
     },
     "execution_count": 42,
     "metadata": {},
     "output_type": "execute_result"
    }
   ],
   "source": [
    "df1['city'].value_counts(sort=False)"
   ]
  },
  {
   "cell_type": "code",
   "execution_count": 43,
   "metadata": {},
   "outputs": [
    {
     "data": {
      "text/plain": [
       "HEAT/HOT WATER    532325\n",
       "Name: complaint_type, dtype: int64"
      ]
     },
     "execution_count": 43,
     "metadata": {},
     "output_type": "execute_result"
    }
   ],
   "source": [
    "df1['complaint_type'].value_counts(sort=False)"
   ]
  },
  {
   "cell_type": "code",
   "execution_count": 44,
   "metadata": {},
   "outputs": [
    {
     "data": {
      "text/plain": [
       "1637 PARKER STREET             2\n",
       "664 ST ANNS AVENUE            19\n",
       "1613 OVERING STREET           11\n",
       "112 HENWOOD PLACE             15\n",
       "870 EAST 163 STREET           10\n",
       "932 EAST 223 STREET            9\n",
       "1038 EVERGREEN AVENUE          1\n",
       "984 SHERIDAN AVENUE           39\n",
       "1180 ANDERSON AVENUE         140\n",
       "3026 HOLLAND AVENUE           15\n",
       "530 EAST 188 STREET            3\n",
       "726A EAST 223 STREET          16\n",
       "700 BARTHOLDI STREET          12\n",
       "1811 PHELAN PLACE             30\n",
       "2307 BEAUMONT AVENUE          23\n",
       "415 EAST  187 STREET           9\n",
       "823 EAST 223 STREET            1\n",
       "633 EAST 235 STREET            1\n",
       "4790 BARNES AVENUE             2\n",
       "2710 JEROME AVENUE             1\n",
       "4646 PARK AVENUE              53\n",
       "803 ELSMERE PLACE              4\n",
       "2527 3 AVENUE                  1\n",
       "1260 STRATFORD AVENUE          4\n",
       "802 EAST  215 STREET           2\n",
       "912 EAST  163 STREET           1\n",
       "1738 ADAMS STREET              1\n",
       "1411 HOLLYWOOD AVENUE          1\n",
       "2740 CLAFLIN AVENUE            1\n",
       "2447 OLINVILLE AVENUE          1\n",
       "                            ... \n",
       "1528 WHITE PLAINS ROAD         3\n",
       "922 EAST  221 STREET           3\n",
       "3224 DECATUR AVENUE            5\n",
       "2400 BRONX PARK EAST           2\n",
       "3410 DE REIMER AVENUE         12\n",
       "651 EAST  221 STREET           2\n",
       "918 EAST  220 STREET          11\n",
       "453 EAST  181 STREET           1\n",
       "565 PROSPECT AVENUE           20\n",
       "1855 OBRIEN AVENUE            10\n",
       "3406 IRWIN AVENUE              2\n",
       "723 EAST 217 STREET            1\n",
       "1611 MAHAN AVENUE              1\n",
       "1343 ELDER AVENUE              9\n",
       "1340 MORRIS AVENUE            97\n",
       "763 EAST 160 STREET            3\n",
       "949 EAST 213 STREET            1\n",
       "1961 VYSE AVENUE              19\n",
       "12 EAST 196 STREET             9\n",
       "1382 SHAKESPEARE AVENUE       24\n",
       "2000 ANTHONY AVENUE          147\n",
       "1340 ST LAWRENCE AVENUE        1\n",
       "2883 EAST 197 STREET           9\n",
       "2554 CRESTON AVENUE           16\n",
       "837 THROGS NECK BOULEVARD      5\n",
       "644A MANIDA STREET             1\n",
       "1810 BRUCKNER BOULEVARD       63\n",
       "754 EAST 228 STREET            2\n",
       "2416 CROTONA AVENUE          112\n",
       "869 EAST  231 STREET           2\n",
       "Name: incident_address, Length: 21499, dtype: int64"
      ]
     },
     "execution_count": 44,
     "metadata": {},
     "output_type": "execute_result"
    }
   ],
   "source": [
    "df1['incident_address'].value_counts(sort=False)"
   ]
  },
  {
   "cell_type": "code",
   "execution_count": 45,
   "metadata": {},
   "outputs": [
    {
     "data": {
      "text/plain": [
       "10451.0    20774\n",
       "10452.0    38350\n",
       "10453.0    44460\n",
       "10454.0     8410\n",
       "10455.0    13273\n",
       "10456.0    34015\n",
       "10457.0    34468\n",
       "10458.0    50953\n",
       "10459.0    17704\n",
       "10460.0    24808\n",
       "10461.0    12300\n",
       "10462.0    31695\n",
       "10463.0    27676\n",
       "10464.0      296\n",
       "10465.0     1961\n",
       "10466.0    18728\n",
       "10467.0    50794\n",
       "10468.0    44827\n",
       "10469.0     7733\n",
       "10470.0     6198\n",
       "10471.0     3135\n",
       "10472.0    27099\n",
       "10473.0     7294\n",
       "10474.0     4663\n",
       "10475.0      707\n",
       "10803.0        4\n",
       "Name: incident_zip, dtype: int64"
      ]
     },
     "execution_count": 45,
     "metadata": {},
     "output_type": "execute_result"
    }
   ],
   "source": [
    "df1['incident_zip'].value_counts(sort=False)"
   ]
  },
  {
   "cell_type": "code",
   "execution_count": 46,
   "metadata": {},
   "outputs": [
    {
     "data": {
      "text/plain": [
       "borough             0\n",
       "city                0\n",
       "complaint_type      0\n",
       "incident_address    0\n",
       "incident_zip        0\n",
       "dtype: int64"
      ]
     },
     "execution_count": 46,
     "metadata": {},
     "output_type": "execute_result"
    }
   ],
   "source": [
    "df1.isnull().sum()"
   ]
  },
  {
   "cell_type": "code",
   "execution_count": 47,
   "metadata": {},
   "outputs": [
    {
     "data": {
      "text/html": [
       "<div>\n",
       "<style scoped>\n",
       "    .dataframe tbody tr th:only-of-type {\n",
       "        vertical-align: middle;\n",
       "    }\n",
       "\n",
       "    .dataframe tbody tr th {\n",
       "        vertical-align: top;\n",
       "    }\n",
       "\n",
       "    .dataframe thead th {\n",
       "        text-align: right;\n",
       "    }\n",
       "</style>\n",
       "<table border=\"1\" class=\"dataframe\">\n",
       "  <thead>\n",
       "    <tr style=\"text-align: right;\">\n",
       "      <th></th>\n",
       "      <th>borough</th>\n",
       "      <th>city</th>\n",
       "      <th>complaint_type</th>\n",
       "      <th>incident_address</th>\n",
       "    </tr>\n",
       "    <tr>\n",
       "      <th>incident_zip</th>\n",
       "      <th></th>\n",
       "      <th></th>\n",
       "      <th></th>\n",
       "      <th></th>\n",
       "    </tr>\n",
       "  </thead>\n",
       "  <tbody>\n",
       "    <tr>\n",
       "      <th>10451.0</th>\n",
       "      <td>20774</td>\n",
       "      <td>20774</td>\n",
       "      <td>20774</td>\n",
       "      <td>20774</td>\n",
       "    </tr>\n",
       "    <tr>\n",
       "      <th>10452.0</th>\n",
       "      <td>38350</td>\n",
       "      <td>38350</td>\n",
       "      <td>38350</td>\n",
       "      <td>38350</td>\n",
       "    </tr>\n",
       "    <tr>\n",
       "      <th>10453.0</th>\n",
       "      <td>44460</td>\n",
       "      <td>44460</td>\n",
       "      <td>44460</td>\n",
       "      <td>44460</td>\n",
       "    </tr>\n",
       "    <tr>\n",
       "      <th>10454.0</th>\n",
       "      <td>8410</td>\n",
       "      <td>8410</td>\n",
       "      <td>8410</td>\n",
       "      <td>8410</td>\n",
       "    </tr>\n",
       "    <tr>\n",
       "      <th>10455.0</th>\n",
       "      <td>13273</td>\n",
       "      <td>13273</td>\n",
       "      <td>13273</td>\n",
       "      <td>13273</td>\n",
       "    </tr>\n",
       "    <tr>\n",
       "      <th>10456.0</th>\n",
       "      <td>34015</td>\n",
       "      <td>34015</td>\n",
       "      <td>34015</td>\n",
       "      <td>34015</td>\n",
       "    </tr>\n",
       "    <tr>\n",
       "      <th>10457.0</th>\n",
       "      <td>34468</td>\n",
       "      <td>34468</td>\n",
       "      <td>34468</td>\n",
       "      <td>34468</td>\n",
       "    </tr>\n",
       "    <tr>\n",
       "      <th>10458.0</th>\n",
       "      <td>50953</td>\n",
       "      <td>50953</td>\n",
       "      <td>50953</td>\n",
       "      <td>50953</td>\n",
       "    </tr>\n",
       "    <tr>\n",
       "      <th>10459.0</th>\n",
       "      <td>17704</td>\n",
       "      <td>17704</td>\n",
       "      <td>17704</td>\n",
       "      <td>17704</td>\n",
       "    </tr>\n",
       "    <tr>\n",
       "      <th>10460.0</th>\n",
       "      <td>24808</td>\n",
       "      <td>24808</td>\n",
       "      <td>24808</td>\n",
       "      <td>24808</td>\n",
       "    </tr>\n",
       "    <tr>\n",
       "      <th>10461.0</th>\n",
       "      <td>12300</td>\n",
       "      <td>12300</td>\n",
       "      <td>12300</td>\n",
       "      <td>12300</td>\n",
       "    </tr>\n",
       "    <tr>\n",
       "      <th>10462.0</th>\n",
       "      <td>31695</td>\n",
       "      <td>31695</td>\n",
       "      <td>31695</td>\n",
       "      <td>31695</td>\n",
       "    </tr>\n",
       "    <tr>\n",
       "      <th>10463.0</th>\n",
       "      <td>27676</td>\n",
       "      <td>27676</td>\n",
       "      <td>27676</td>\n",
       "      <td>27676</td>\n",
       "    </tr>\n",
       "    <tr>\n",
       "      <th>10464.0</th>\n",
       "      <td>296</td>\n",
       "      <td>296</td>\n",
       "      <td>296</td>\n",
       "      <td>296</td>\n",
       "    </tr>\n",
       "    <tr>\n",
       "      <th>10465.0</th>\n",
       "      <td>1961</td>\n",
       "      <td>1961</td>\n",
       "      <td>1961</td>\n",
       "      <td>1961</td>\n",
       "    </tr>\n",
       "    <tr>\n",
       "      <th>10466.0</th>\n",
       "      <td>18728</td>\n",
       "      <td>18728</td>\n",
       "      <td>18728</td>\n",
       "      <td>18728</td>\n",
       "    </tr>\n",
       "    <tr>\n",
       "      <th>10467.0</th>\n",
       "      <td>50794</td>\n",
       "      <td>50794</td>\n",
       "      <td>50794</td>\n",
       "      <td>50794</td>\n",
       "    </tr>\n",
       "    <tr>\n",
       "      <th>10468.0</th>\n",
       "      <td>44827</td>\n",
       "      <td>44827</td>\n",
       "      <td>44827</td>\n",
       "      <td>44827</td>\n",
       "    </tr>\n",
       "    <tr>\n",
       "      <th>10469.0</th>\n",
       "      <td>7733</td>\n",
       "      <td>7733</td>\n",
       "      <td>7733</td>\n",
       "      <td>7733</td>\n",
       "    </tr>\n",
       "    <tr>\n",
       "      <th>10470.0</th>\n",
       "      <td>6198</td>\n",
       "      <td>6198</td>\n",
       "      <td>6198</td>\n",
       "      <td>6198</td>\n",
       "    </tr>\n",
       "    <tr>\n",
       "      <th>10471.0</th>\n",
       "      <td>3135</td>\n",
       "      <td>3135</td>\n",
       "      <td>3135</td>\n",
       "      <td>3135</td>\n",
       "    </tr>\n",
       "    <tr>\n",
       "      <th>10472.0</th>\n",
       "      <td>27099</td>\n",
       "      <td>27099</td>\n",
       "      <td>27099</td>\n",
       "      <td>27099</td>\n",
       "    </tr>\n",
       "    <tr>\n",
       "      <th>10473.0</th>\n",
       "      <td>7294</td>\n",
       "      <td>7294</td>\n",
       "      <td>7294</td>\n",
       "      <td>7294</td>\n",
       "    </tr>\n",
       "    <tr>\n",
       "      <th>10474.0</th>\n",
       "      <td>4663</td>\n",
       "      <td>4663</td>\n",
       "      <td>4663</td>\n",
       "      <td>4663</td>\n",
       "    </tr>\n",
       "    <tr>\n",
       "      <th>10475.0</th>\n",
       "      <td>707</td>\n",
       "      <td>707</td>\n",
       "      <td>707</td>\n",
       "      <td>707</td>\n",
       "    </tr>\n",
       "    <tr>\n",
       "      <th>10803.0</th>\n",
       "      <td>4</td>\n",
       "      <td>4</td>\n",
       "      <td>4</td>\n",
       "      <td>4</td>\n",
       "    </tr>\n",
       "  </tbody>\n",
       "</table>\n",
       "</div>"
      ],
      "text/plain": [
       "              borough   city  complaint_type  incident_address\n",
       "incident_zip                                                  \n",
       "10451.0         20774  20774           20774             20774\n",
       "10452.0         38350  38350           38350             38350\n",
       "10453.0         44460  44460           44460             44460\n",
       "10454.0          8410   8410            8410              8410\n",
       "10455.0         13273  13273           13273             13273\n",
       "10456.0         34015  34015           34015             34015\n",
       "10457.0         34468  34468           34468             34468\n",
       "10458.0         50953  50953           50953             50953\n",
       "10459.0         17704  17704           17704             17704\n",
       "10460.0         24808  24808           24808             24808\n",
       "10461.0         12300  12300           12300             12300\n",
       "10462.0         31695  31695           31695             31695\n",
       "10463.0         27676  27676           27676             27676\n",
       "10464.0           296    296             296               296\n",
       "10465.0          1961   1961            1961              1961\n",
       "10466.0         18728  18728           18728             18728\n",
       "10467.0         50794  50794           50794             50794\n",
       "10468.0         44827  44827           44827             44827\n",
       "10469.0          7733   7733            7733              7733\n",
       "10470.0          6198   6198            6198              6198\n",
       "10471.0          3135   3135            3135              3135\n",
       "10472.0         27099  27099           27099             27099\n",
       "10473.0          7294   7294            7294              7294\n",
       "10474.0          4663   4663            4663              4663\n",
       "10475.0           707    707             707               707\n",
       "10803.0             4      4               4                 4"
      ]
     },
     "execution_count": 47,
     "metadata": {},
     "output_type": "execute_result"
    }
   ],
   "source": [
    "stats = df1[df1['complaint_type'] == 'HEAT/HOT WATER'].groupby('incident_zip')\n",
    "stats.count()"
   ]
  },
  {
   "cell_type": "code",
   "execution_count": 48,
   "metadata": {},
   "outputs": [
    {
     "data": {
      "text/html": [
       "<div>\n",
       "<style scoped>\n",
       "    .dataframe tbody tr th:only-of-type {\n",
       "        vertical-align: middle;\n",
       "    }\n",
       "\n",
       "    .dataframe tbody tr th {\n",
       "        vertical-align: top;\n",
       "    }\n",
       "\n",
       "    .dataframe thead th {\n",
       "        text-align: right;\n",
       "    }\n",
       "</style>\n",
       "<table border=\"1\" class=\"dataframe\">\n",
       "  <thead>\n",
       "    <tr style=\"text-align: right;\">\n",
       "      <th></th>\n",
       "      <th>Address</th>\n",
       "      <th>NumBldgs</th>\n",
       "      <th>NumFloors</th>\n",
       "      <th>YearBuilt</th>\n",
       "      <th>YearAlter1</th>\n",
       "      <th>incident_zip</th>\n",
       "    </tr>\n",
       "  </thead>\n",
       "  <tbody>\n",
       "    <tr>\n",
       "      <th>1</th>\n",
       "      <td>126 BRUCKNER BOULEVARD</td>\n",
       "      <td>2</td>\n",
       "      <td>1.0</td>\n",
       "      <td>1931</td>\n",
       "      <td>1994</td>\n",
       "      <td>10454.0</td>\n",
       "    </tr>\n",
       "    <tr>\n",
       "      <th>2</th>\n",
       "      <td>138 BRUCKNER BOULEVARD</td>\n",
       "      <td>1</td>\n",
       "      <td>2.0</td>\n",
       "      <td>1931</td>\n",
       "      <td>0</td>\n",
       "      <td>10454.0</td>\n",
       "    </tr>\n",
       "    <tr>\n",
       "      <th>3</th>\n",
       "      <td>144 BRUCKNER BOULEVARD</td>\n",
       "      <td>1</td>\n",
       "      <td>5.0</td>\n",
       "      <td>1931</td>\n",
       "      <td>2001</td>\n",
       "      <td>10454.0</td>\n",
       "    </tr>\n",
       "    <tr>\n",
       "      <th>4</th>\n",
       "      <td>148 BRUCKNER BOULEVARD</td>\n",
       "      <td>1</td>\n",
       "      <td>5.0</td>\n",
       "      <td>1920</td>\n",
       "      <td>2009</td>\n",
       "      <td>10454.0</td>\n",
       "    </tr>\n",
       "    <tr>\n",
       "      <th>6</th>\n",
       "      <td>519 EAST 132 STREET</td>\n",
       "      <td>2</td>\n",
       "      <td>1.0</td>\n",
       "      <td>1931</td>\n",
       "      <td>0</td>\n",
       "      <td>10454.0</td>\n",
       "    </tr>\n",
       "  </tbody>\n",
       "</table>\n",
       "</div>"
      ],
      "text/plain": [
       "                  Address  NumBldgs  NumFloors  YearBuilt  YearAlter1  \\\n",
       "1  126 BRUCKNER BOULEVARD         2        1.0       1931        1994   \n",
       "2  138 BRUCKNER BOULEVARD         1        2.0       1931           0   \n",
       "3  144 BRUCKNER BOULEVARD         1        5.0       1931        2001   \n",
       "4  148 BRUCKNER BOULEVARD         1        5.0       1920        2009   \n",
       "6     519 EAST 132 STREET         2        1.0       1931           0   \n",
       "\n",
       "   incident_zip  \n",
       "1       10454.0  \n",
       "2       10454.0  \n",
       "3       10454.0  \n",
       "4       10454.0  \n",
       "6       10454.0  "
      ]
     },
     "execution_count": 48,
     "metadata": {},
     "output_type": "execute_result"
    }
   ],
   "source": [
    "#Print the observations\n",
    "df2.head()"
   ]
  },
  {
   "cell_type": "code",
   "execution_count": 49,
   "metadata": {},
   "outputs": [
    {
     "data": {
      "text/plain": [
       "1637 PARKER STREET          1\n",
       "225 BETTS AVENUE            1\n",
       "3034 WICKHAM AVENUE         1\n",
       "3453 ELY AVENUE             1\n",
       "2522 YATES AVENUE           1\n",
       "1613 OVERING STREET         1\n",
       "3503 EAST TREMONT AVENUE    1\n",
       "45 EAST 233 STREET          1\n",
       "1866 NARRAGANSETT AVENUE    1\n",
       "3817 LACONIA AVENUE         1\n",
       "2612 MILES AVENUE           1\n",
       "708 EAST 135 STREET         1\n",
       "2732 LATTING STREET         1\n",
       "870 EAST 163 STREET         1\n",
       "2451 HOFFMAN STREET         1\n",
       "2510 BARKER AVENUE          1\n",
       "682 MINNIEFORD AVENUE       1\n",
       "554 VINCENT AVENUE          1\n",
       "166 SCHOFIELD STREET        1\n",
       "746 LOGAN AVENUE            1\n",
       "5151 POST ROAD              1\n",
       "984 SHERIDAN AVENUE         1\n",
       "1016 EAST 231 STREET        1\n",
       "1180 ANDERSON AVENUE        1\n",
       "3026 HOLLAND AVENUE         1\n",
       "768 TRINITY AVENUE          1\n",
       "2153 BELMONT AVENUE         1\n",
       "626 CRESCENT AVENUE         1\n",
       "312 EAST 240 STREET         1\n",
       "4072 BAYCHESTER AVENUE      1\n",
       "                           ..\n",
       "1362 ROSEDALE AVENUE        1\n",
       "239 WEST 230 STREET         1\n",
       "2722 COLDEN AVENUE          1\n",
       "2229 QUIMBY AVENUE          1\n",
       "4075 ELY AVENUE             1\n",
       "511 BOLTON AVENUE           1\n",
       "4444 MATILDA AVENUE         1\n",
       "1382 SHAKESPEARE AVENUE     1\n",
       "4345 GRACE AVENUE           1\n",
       "2883 EAST 197 STREET        1\n",
       "3615 CORLEAR AVENUE         1\n",
       "1032 WHEELER AVENUE         1\n",
       "2420 WILSON AVENUE          1\n",
       "275 GRAFF AVENUE            1\n",
       "1211 LELAND AVENUE          1\n",
       "2880 DUDLEY AVENUE          1\n",
       "967 EAST 222 STREET         1\n",
       "4251 SETON AVENUE           1\n",
       "5408 POST ROAD              1\n",
       "1395 SHAKESPEARE AVENUE     1\n",
       "1925 SCHIEFFELIN AVENUE     1\n",
       "2079 MULINER AVENUE         1\n",
       "812 THROGS NECK EXPWY SR    1\n",
       "1917 BUSSING AVENUE         1\n",
       "2101 BUSSING AVENUE         1\n",
       "1122 FINDLAY AVENUE         1\n",
       "1695 EASTCHESTER ROAD       1\n",
       "110 PUGSLEY AVENUE          1\n",
       "2927 HOLLAND AVENUE         1\n",
       "2411 VALENTINE AVENUE       1\n",
       "Name: Address, Length: 82914, dtype: int64"
      ]
     },
     "execution_count": 49,
     "metadata": {},
     "output_type": "execute_result"
    }
   ],
   "source": [
    "df2['Address'].value_counts(sort=False)"
   ]
  },
  {
   "cell_type": "code",
   "execution_count": 50,
   "metadata": {},
   "outputs": [
    {
     "data": {
      "text/plain": [
       "0         60\n",
       "64         1\n",
       "1      66301\n",
       "129        1\n",
       "2      15266\n",
       "3        875\n",
       "4        190\n",
       "5         72\n",
       "6         40\n",
       "70         1\n",
       "7         25\n",
       "8         16\n",
       "72         1\n",
       "9         14\n",
       "10        13\n",
       "74         1\n",
       "11         9\n",
       "12         8\n",
       "13         4\n",
       "14         7\n",
       "78         1\n",
       "15         5\n",
       "16         4\n",
       "208        1\n",
       "17         3\n",
       "18         3\n",
       "82         1\n",
       "19         2\n",
       "20         3\n",
       "21         3\n",
       "22         2\n",
       "23         2\n",
       "24         2\n",
       "26         3\n",
       "91         1\n",
       "28         1\n",
       "29         1\n",
       "30         2\n",
       "31         3\n",
       "33         1\n",
       "35         3\n",
       "100        1\n",
       "37         2\n",
       "230        1\n",
       "39         4\n",
       "40         1\n",
       "44         1\n",
       "46         2\n",
       "47         1\n",
       "48         2\n",
       "52         1\n",
       "54         3\n",
       "55         1\n",
       "57         2\n",
       "58         2\n",
       "251        1\n",
       "62         1\n",
       "Name: NumBldgs, dtype: int64"
      ]
     },
     "execution_count": 50,
     "metadata": {},
     "output_type": "execute_result"
    }
   ],
   "source": [
    "df2['NumBldgs'].value_counts(sort=False)"
   ]
  },
  {
   "cell_type": "code",
   "execution_count": 51,
   "metadata": {},
   "outputs": [
    {
     "data": {
      "text/plain": [
       "1.00      8823\n",
       "2.00     42135\n",
       "16.00       23\n",
       "8.00       154\n",
       "0.50         1\n",
       "1.33         1\n",
       "25.00        5\n",
       "18.00       10\n",
       "44.00        1\n",
       "33.00        2\n",
       "10.00       43\n",
       "3.50        61\n",
       "22.00        7\n",
       "4.50         1\n",
       "17.00        5\n",
       "3.00     15186\n",
       "20.00       24\n",
       "1.50      1528\n",
       "14.00       42\n",
       "3.75        18\n",
       "2.50      5075\n",
       "2.67        20\n",
       "42.00        1\n",
       "30.00        5\n",
       "23.00        1\n",
       "13.00       38\n",
       "4.00      1700\n",
       "12.00       48\n",
       "9.00        77\n",
       "5.50         1\n",
       "5.00      3236\n",
       "2.25         9\n",
       "28.00        2\n",
       "11.00       37\n",
       "19.00       12\n",
       "6.00      2171\n",
       "1.75       715\n",
       "24.00        1\n",
       "1.67       341\n",
       "7.00       231\n",
       "2.75      1163\n",
       "1.25         1\n",
       "21.00       12\n",
       "15.00       11\n",
       "Name: NumFloors, dtype: int64"
      ]
     },
     "execution_count": 51,
     "metadata": {},
     "output_type": "execute_result"
    }
   ],
   "source": [
    "df2['NumFloors'].value_counts(sort=False)"
   ]
  },
  {
   "cell_type": "code",
   "execution_count": 52,
   "metadata": {},
   "outputs": [
    {
     "data": {
      "text/plain": [
       "0         28\n",
       "1920    7538\n",
       "1984      52\n",
       "1921     116\n",
       "1985     198\n",
       "1922     247\n",
       "1986     172\n",
       "1923     289\n",
       "1987     445\n",
       "1924     525\n",
       "1988     396\n",
       "1925    6328\n",
       "1989     329\n",
       "1926     772\n",
       "1990     362\n",
       "1927    1085\n",
       "1991     446\n",
       "1800      44\n",
       "1928     984\n",
       "1992     641\n",
       "1929     529\n",
       "1993     519\n",
       "1930    5832\n",
       "1994     247\n",
       "1931    3163\n",
       "1995     323\n",
       "1868       1\n",
       "1932     209\n",
       "1996     289\n",
       "1933      95\n",
       "        ... \n",
       "1971      79\n",
       "1780       1\n",
       "1908      61\n",
       "1972      93\n",
       "1909     132\n",
       "1973      89\n",
       "1910    3868\n",
       "1974     104\n",
       "1911     181\n",
       "1975     439\n",
       "1848       1\n",
       "1912     175\n",
       "1976      52\n",
       "1849       1\n",
       "1913     217\n",
       "1977      36\n",
       "1850       1\n",
       "1914     104\n",
       "1978      42\n",
       "1915    1735\n",
       "1979      47\n",
       "1916     146\n",
       "1980     117\n",
       "1853       1\n",
       "1917      89\n",
       "1981      44\n",
       "1918      45\n",
       "1982      51\n",
       "1919      35\n",
       "1983      42\n",
       "Name: YearBuilt, Length: 146, dtype: int64"
      ]
     },
     "execution_count": 52,
     "metadata": {},
     "output_type": "execute_result"
    }
   ],
   "source": [
    "df2['YearBuilt'].value_counts(sort=False)"
   ]
  },
  {
   "cell_type": "code",
   "execution_count": 53,
   "metadata": {},
   "outputs": [
    {
     "data": {
      "text/plain": [
       "0       75087\n",
       "1920        2\n",
       "1984       68\n",
       "1921        2\n",
       "1985       69\n",
       "1922        5\n",
       "1986       75\n",
       "1923        1\n",
       "1987       82\n",
       "1924        1\n",
       "1988      113\n",
       "1925        4\n",
       "1989       99\n",
       "1926        2\n",
       "1990      179\n",
       "1927        1\n",
       "1991      292\n",
       "1992      172\n",
       "1929        2\n",
       "1993      202\n",
       "1930        3\n",
       "1994      294\n",
       "1931        3\n",
       "1995      196\n",
       "1932        1\n",
       "1996      262\n",
       "1933        1\n",
       "1997      202\n",
       "1998      244\n",
       "1935        1\n",
       "        ...  \n",
       "1966       10\n",
       "1967       23\n",
       "1968       13\n",
       "1905        1\n",
       "1969       13\n",
       "1906        1\n",
       "1970       11\n",
       "1971        9\n",
       "1908        1\n",
       "1972       20\n",
       "1973       19\n",
       "1910        1\n",
       "1974       33\n",
       "1911        2\n",
       "1975       27\n",
       "1912        2\n",
       "1976       22\n",
       "1913        3\n",
       "1977       32\n",
       "1914        1\n",
       "1978       32\n",
       "1915        4\n",
       "1979       48\n",
       "1916        2\n",
       "1980       70\n",
       "1981       48\n",
       "1918        2\n",
       "1982       75\n",
       "1919        1\n",
       "1983       71\n",
       "Name: YearAlter1, Length: 108, dtype: int64"
      ]
     },
     "execution_count": 53,
     "metadata": {},
     "output_type": "execute_result"
    }
   ],
   "source": [
    "df2['YearAlter1'].value_counts(sort=False)"
   ]
  },
  {
   "cell_type": "code",
   "execution_count": 54,
   "metadata": {},
   "outputs": [
    {
     "data": {
      "text/plain": [
       "10451.0      990\n",
       "10452.0     1303\n",
       "10453.0     1934\n",
       "10454.0     1505\n",
       "10455.0     1604\n",
       "10456.0     2551\n",
       "10457.0     2670\n",
       "10458.0     2580\n",
       "10459.0     2359\n",
       "10460.0     2601\n",
       "10461.0     7168\n",
       "10462.0     4411\n",
       "10463.0     2041\n",
       "10464.0     1331\n",
       "10465.0     7676\n",
       "10466.0     8810\n",
       "10467.0     4465\n",
       "10468.0     1505\n",
       "10469.0    10928\n",
       "10470.0     2218\n",
       "10471.0     2007\n",
       "10472.0     4202\n",
       "10473.0     4464\n",
       "10474.0     1015\n",
       "10475.0      639\n",
       "11370.0        1\n",
       "Name: incident_zip, dtype: int64"
      ]
     },
     "execution_count": 54,
     "metadata": {},
     "output_type": "execute_result"
    }
   ],
   "source": [
    "df2['incident_zip'].value_counts(sort=False)"
   ]
  },
  {
   "cell_type": "code",
   "execution_count": 55,
   "metadata": {},
   "outputs": [
    {
     "data": {
      "text/plain": [
       "Address         0\n",
       "NumBldgs        0\n",
       "NumFloors       0\n",
       "YearBuilt       0\n",
       "YearAlter1      0\n",
       "incident_zip    0\n",
       "dtype: int64"
      ]
     },
     "execution_count": 55,
     "metadata": {},
     "output_type": "execute_result"
    }
   ],
   "source": [
    "df2.isnull().sum()"
   ]
  },
  {
   "cell_type": "code",
   "execution_count": 56,
   "metadata": {},
   "outputs": [
    {
     "data": {
      "text/html": [
       "<div>\n",
       "<style scoped>\n",
       "    .dataframe tbody tr th:only-of-type {\n",
       "        vertical-align: middle;\n",
       "    }\n",
       "\n",
       "    .dataframe tbody tr th {\n",
       "        vertical-align: top;\n",
       "    }\n",
       "\n",
       "    .dataframe thead th {\n",
       "        text-align: right;\n",
       "    }\n",
       "</style>\n",
       "<table border=\"1\" class=\"dataframe\">\n",
       "  <thead>\n",
       "    <tr style=\"text-align: right;\">\n",
       "      <th></th>\n",
       "      <th>borough</th>\n",
       "      <th>city</th>\n",
       "      <th>complaint_type</th>\n",
       "      <th>incident_address</th>\n",
       "    </tr>\n",
       "    <tr>\n",
       "      <th>incident_zip</th>\n",
       "      <th></th>\n",
       "      <th></th>\n",
       "      <th></th>\n",
       "      <th></th>\n",
       "    </tr>\n",
       "  </thead>\n",
       "  <tbody>\n",
       "    <tr>\n",
       "      <th>10451.0</th>\n",
       "      <td>20774</td>\n",
       "      <td>20774</td>\n",
       "      <td>20774</td>\n",
       "      <td>20774</td>\n",
       "    </tr>\n",
       "    <tr>\n",
       "      <th>10452.0</th>\n",
       "      <td>38350</td>\n",
       "      <td>38350</td>\n",
       "      <td>38350</td>\n",
       "      <td>38350</td>\n",
       "    </tr>\n",
       "    <tr>\n",
       "      <th>10453.0</th>\n",
       "      <td>44460</td>\n",
       "      <td>44460</td>\n",
       "      <td>44460</td>\n",
       "      <td>44460</td>\n",
       "    </tr>\n",
       "    <tr>\n",
       "      <th>10454.0</th>\n",
       "      <td>8410</td>\n",
       "      <td>8410</td>\n",
       "      <td>8410</td>\n",
       "      <td>8410</td>\n",
       "    </tr>\n",
       "    <tr>\n",
       "      <th>10455.0</th>\n",
       "      <td>13273</td>\n",
       "      <td>13273</td>\n",
       "      <td>13273</td>\n",
       "      <td>13273</td>\n",
       "    </tr>\n",
       "    <tr>\n",
       "      <th>10456.0</th>\n",
       "      <td>34015</td>\n",
       "      <td>34015</td>\n",
       "      <td>34015</td>\n",
       "      <td>34015</td>\n",
       "    </tr>\n",
       "    <tr>\n",
       "      <th>10457.0</th>\n",
       "      <td>34468</td>\n",
       "      <td>34468</td>\n",
       "      <td>34468</td>\n",
       "      <td>34468</td>\n",
       "    </tr>\n",
       "    <tr>\n",
       "      <th>10458.0</th>\n",
       "      <td>50953</td>\n",
       "      <td>50953</td>\n",
       "      <td>50953</td>\n",
       "      <td>50953</td>\n",
       "    </tr>\n",
       "    <tr>\n",
       "      <th>10459.0</th>\n",
       "      <td>17704</td>\n",
       "      <td>17704</td>\n",
       "      <td>17704</td>\n",
       "      <td>17704</td>\n",
       "    </tr>\n",
       "    <tr>\n",
       "      <th>10460.0</th>\n",
       "      <td>24808</td>\n",
       "      <td>24808</td>\n",
       "      <td>24808</td>\n",
       "      <td>24808</td>\n",
       "    </tr>\n",
       "    <tr>\n",
       "      <th>10461.0</th>\n",
       "      <td>12300</td>\n",
       "      <td>12300</td>\n",
       "      <td>12300</td>\n",
       "      <td>12300</td>\n",
       "    </tr>\n",
       "    <tr>\n",
       "      <th>10462.0</th>\n",
       "      <td>31695</td>\n",
       "      <td>31695</td>\n",
       "      <td>31695</td>\n",
       "      <td>31695</td>\n",
       "    </tr>\n",
       "    <tr>\n",
       "      <th>10463.0</th>\n",
       "      <td>27676</td>\n",
       "      <td>27676</td>\n",
       "      <td>27676</td>\n",
       "      <td>27676</td>\n",
       "    </tr>\n",
       "    <tr>\n",
       "      <th>10464.0</th>\n",
       "      <td>296</td>\n",
       "      <td>296</td>\n",
       "      <td>296</td>\n",
       "      <td>296</td>\n",
       "    </tr>\n",
       "    <tr>\n",
       "      <th>10465.0</th>\n",
       "      <td>1961</td>\n",
       "      <td>1961</td>\n",
       "      <td>1961</td>\n",
       "      <td>1961</td>\n",
       "    </tr>\n",
       "    <tr>\n",
       "      <th>10466.0</th>\n",
       "      <td>18728</td>\n",
       "      <td>18728</td>\n",
       "      <td>18728</td>\n",
       "      <td>18728</td>\n",
       "    </tr>\n",
       "    <tr>\n",
       "      <th>10467.0</th>\n",
       "      <td>50794</td>\n",
       "      <td>50794</td>\n",
       "      <td>50794</td>\n",
       "      <td>50794</td>\n",
       "    </tr>\n",
       "    <tr>\n",
       "      <th>10468.0</th>\n",
       "      <td>44827</td>\n",
       "      <td>44827</td>\n",
       "      <td>44827</td>\n",
       "      <td>44827</td>\n",
       "    </tr>\n",
       "    <tr>\n",
       "      <th>10469.0</th>\n",
       "      <td>7733</td>\n",
       "      <td>7733</td>\n",
       "      <td>7733</td>\n",
       "      <td>7733</td>\n",
       "    </tr>\n",
       "    <tr>\n",
       "      <th>10470.0</th>\n",
       "      <td>6198</td>\n",
       "      <td>6198</td>\n",
       "      <td>6198</td>\n",
       "      <td>6198</td>\n",
       "    </tr>\n",
       "    <tr>\n",
       "      <th>10471.0</th>\n",
       "      <td>3135</td>\n",
       "      <td>3135</td>\n",
       "      <td>3135</td>\n",
       "      <td>3135</td>\n",
       "    </tr>\n",
       "    <tr>\n",
       "      <th>10472.0</th>\n",
       "      <td>27099</td>\n",
       "      <td>27099</td>\n",
       "      <td>27099</td>\n",
       "      <td>27099</td>\n",
       "    </tr>\n",
       "    <tr>\n",
       "      <th>10473.0</th>\n",
       "      <td>7294</td>\n",
       "      <td>7294</td>\n",
       "      <td>7294</td>\n",
       "      <td>7294</td>\n",
       "    </tr>\n",
       "    <tr>\n",
       "      <th>10474.0</th>\n",
       "      <td>4663</td>\n",
       "      <td>4663</td>\n",
       "      <td>4663</td>\n",
       "      <td>4663</td>\n",
       "    </tr>\n",
       "    <tr>\n",
       "      <th>10475.0</th>\n",
       "      <td>707</td>\n",
       "      <td>707</td>\n",
       "      <td>707</td>\n",
       "      <td>707</td>\n",
       "    </tr>\n",
       "    <tr>\n",
       "      <th>10803.0</th>\n",
       "      <td>4</td>\n",
       "      <td>4</td>\n",
       "      <td>4</td>\n",
       "      <td>4</td>\n",
       "    </tr>\n",
       "  </tbody>\n",
       "</table>\n",
       "</div>"
      ],
      "text/plain": [
       "              borough   city  complaint_type  incident_address\n",
       "incident_zip                                                  \n",
       "10451.0         20774  20774           20774             20774\n",
       "10452.0         38350  38350           38350             38350\n",
       "10453.0         44460  44460           44460             44460\n",
       "10454.0          8410   8410            8410              8410\n",
       "10455.0         13273  13273           13273             13273\n",
       "10456.0         34015  34015           34015             34015\n",
       "10457.0         34468  34468           34468             34468\n",
       "10458.0         50953  50953           50953             50953\n",
       "10459.0         17704  17704           17704             17704\n",
       "10460.0         24808  24808           24808             24808\n",
       "10461.0         12300  12300           12300             12300\n",
       "10462.0         31695  31695           31695             31695\n",
       "10463.0         27676  27676           27676             27676\n",
       "10464.0           296    296             296               296\n",
       "10465.0          1961   1961            1961              1961\n",
       "10466.0         18728  18728           18728             18728\n",
       "10467.0         50794  50794           50794             50794\n",
       "10468.0         44827  44827           44827             44827\n",
       "10469.0          7733   7733            7733              7733\n",
       "10470.0          6198   6198            6198              6198\n",
       "10471.0          3135   3135            3135              3135\n",
       "10472.0         27099  27099           27099             27099\n",
       "10473.0          7294   7294            7294              7294\n",
       "10474.0          4663   4663            4663              4663\n",
       "10475.0           707    707             707               707\n",
       "10803.0             4      4               4                 4"
      ]
     },
     "execution_count": 56,
     "metadata": {},
     "output_type": "execute_result"
    }
   ],
   "source": [
    "stats = df1.groupby(['incident_zip'], as_index=True) \n",
    "stats.count()"
   ]
  },
  {
   "cell_type": "code",
   "execution_count": 57,
   "metadata": {},
   "outputs": [
    {
     "data": {
      "text/html": [
       "<div>\n",
       "<style scoped>\n",
       "    .dataframe tbody tr th:only-of-type {\n",
       "        vertical-align: middle;\n",
       "    }\n",
       "\n",
       "    .dataframe tbody tr th {\n",
       "        vertical-align: top;\n",
       "    }\n",
       "\n",
       "    .dataframe thead th {\n",
       "        text-align: right;\n",
       "    }\n",
       "</style>\n",
       "<table border=\"1\" class=\"dataframe\">\n",
       "  <thead>\n",
       "    <tr style=\"text-align: right;\">\n",
       "      <th></th>\n",
       "      <th>Address</th>\n",
       "      <th>NumBldgs</th>\n",
       "      <th>NumFloors</th>\n",
       "      <th>YearBuilt</th>\n",
       "      <th>YearAlter1</th>\n",
       "    </tr>\n",
       "    <tr>\n",
       "      <th>incident_zip</th>\n",
       "      <th></th>\n",
       "      <th></th>\n",
       "      <th></th>\n",
       "      <th></th>\n",
       "      <th></th>\n",
       "    </tr>\n",
       "  </thead>\n",
       "  <tbody>\n",
       "    <tr>\n",
       "      <th>10451.0</th>\n",
       "      <td>990</td>\n",
       "      <td>990</td>\n",
       "      <td>990</td>\n",
       "      <td>990</td>\n",
       "      <td>990</td>\n",
       "    </tr>\n",
       "    <tr>\n",
       "      <th>10452.0</th>\n",
       "      <td>1303</td>\n",
       "      <td>1303</td>\n",
       "      <td>1303</td>\n",
       "      <td>1303</td>\n",
       "      <td>1303</td>\n",
       "    </tr>\n",
       "    <tr>\n",
       "      <th>10453.0</th>\n",
       "      <td>1934</td>\n",
       "      <td>1934</td>\n",
       "      <td>1934</td>\n",
       "      <td>1934</td>\n",
       "      <td>1934</td>\n",
       "    </tr>\n",
       "    <tr>\n",
       "      <th>10454.0</th>\n",
       "      <td>1505</td>\n",
       "      <td>1505</td>\n",
       "      <td>1505</td>\n",
       "      <td>1505</td>\n",
       "      <td>1505</td>\n",
       "    </tr>\n",
       "    <tr>\n",
       "      <th>10455.0</th>\n",
       "      <td>1604</td>\n",
       "      <td>1604</td>\n",
       "      <td>1604</td>\n",
       "      <td>1604</td>\n",
       "      <td>1604</td>\n",
       "    </tr>\n",
       "    <tr>\n",
       "      <th>10456.0</th>\n",
       "      <td>2551</td>\n",
       "      <td>2551</td>\n",
       "      <td>2551</td>\n",
       "      <td>2551</td>\n",
       "      <td>2551</td>\n",
       "    </tr>\n",
       "    <tr>\n",
       "      <th>10457.0</th>\n",
       "      <td>2670</td>\n",
       "      <td>2670</td>\n",
       "      <td>2670</td>\n",
       "      <td>2670</td>\n",
       "      <td>2670</td>\n",
       "    </tr>\n",
       "    <tr>\n",
       "      <th>10458.0</th>\n",
       "      <td>2580</td>\n",
       "      <td>2580</td>\n",
       "      <td>2580</td>\n",
       "      <td>2580</td>\n",
       "      <td>2580</td>\n",
       "    </tr>\n",
       "    <tr>\n",
       "      <th>10459.0</th>\n",
       "      <td>2359</td>\n",
       "      <td>2359</td>\n",
       "      <td>2359</td>\n",
       "      <td>2359</td>\n",
       "      <td>2359</td>\n",
       "    </tr>\n",
       "    <tr>\n",
       "      <th>10460.0</th>\n",
       "      <td>2601</td>\n",
       "      <td>2601</td>\n",
       "      <td>2601</td>\n",
       "      <td>2601</td>\n",
       "      <td>2601</td>\n",
       "    </tr>\n",
       "    <tr>\n",
       "      <th>10461.0</th>\n",
       "      <td>7168</td>\n",
       "      <td>7168</td>\n",
       "      <td>7168</td>\n",
       "      <td>7168</td>\n",
       "      <td>7168</td>\n",
       "    </tr>\n",
       "    <tr>\n",
       "      <th>10462.0</th>\n",
       "      <td>4411</td>\n",
       "      <td>4411</td>\n",
       "      <td>4411</td>\n",
       "      <td>4411</td>\n",
       "      <td>4411</td>\n",
       "    </tr>\n",
       "    <tr>\n",
       "      <th>10463.0</th>\n",
       "      <td>2041</td>\n",
       "      <td>2041</td>\n",
       "      <td>2041</td>\n",
       "      <td>2041</td>\n",
       "      <td>2041</td>\n",
       "    </tr>\n",
       "    <tr>\n",
       "      <th>10464.0</th>\n",
       "      <td>1331</td>\n",
       "      <td>1331</td>\n",
       "      <td>1331</td>\n",
       "      <td>1331</td>\n",
       "      <td>1331</td>\n",
       "    </tr>\n",
       "    <tr>\n",
       "      <th>10465.0</th>\n",
       "      <td>7676</td>\n",
       "      <td>7676</td>\n",
       "      <td>7676</td>\n",
       "      <td>7676</td>\n",
       "      <td>7676</td>\n",
       "    </tr>\n",
       "    <tr>\n",
       "      <th>10466.0</th>\n",
       "      <td>8810</td>\n",
       "      <td>8810</td>\n",
       "      <td>8810</td>\n",
       "      <td>8810</td>\n",
       "      <td>8810</td>\n",
       "    </tr>\n",
       "    <tr>\n",
       "      <th>10467.0</th>\n",
       "      <td>4465</td>\n",
       "      <td>4465</td>\n",
       "      <td>4465</td>\n",
       "      <td>4465</td>\n",
       "      <td>4465</td>\n",
       "    </tr>\n",
       "    <tr>\n",
       "      <th>10468.0</th>\n",
       "      <td>1505</td>\n",
       "      <td>1505</td>\n",
       "      <td>1505</td>\n",
       "      <td>1505</td>\n",
       "      <td>1505</td>\n",
       "    </tr>\n",
       "    <tr>\n",
       "      <th>10469.0</th>\n",
       "      <td>10928</td>\n",
       "      <td>10928</td>\n",
       "      <td>10928</td>\n",
       "      <td>10928</td>\n",
       "      <td>10928</td>\n",
       "    </tr>\n",
       "    <tr>\n",
       "      <th>10470.0</th>\n",
       "      <td>2218</td>\n",
       "      <td>2218</td>\n",
       "      <td>2218</td>\n",
       "      <td>2218</td>\n",
       "      <td>2218</td>\n",
       "    </tr>\n",
       "    <tr>\n",
       "      <th>10471.0</th>\n",
       "      <td>2007</td>\n",
       "      <td>2007</td>\n",
       "      <td>2007</td>\n",
       "      <td>2007</td>\n",
       "      <td>2007</td>\n",
       "    </tr>\n",
       "    <tr>\n",
       "      <th>10472.0</th>\n",
       "      <td>4202</td>\n",
       "      <td>4202</td>\n",
       "      <td>4202</td>\n",
       "      <td>4202</td>\n",
       "      <td>4202</td>\n",
       "    </tr>\n",
       "    <tr>\n",
       "      <th>10473.0</th>\n",
       "      <td>4464</td>\n",
       "      <td>4464</td>\n",
       "      <td>4464</td>\n",
       "      <td>4464</td>\n",
       "      <td>4464</td>\n",
       "    </tr>\n",
       "    <tr>\n",
       "      <th>10474.0</th>\n",
       "      <td>1015</td>\n",
       "      <td>1015</td>\n",
       "      <td>1015</td>\n",
       "      <td>1015</td>\n",
       "      <td>1015</td>\n",
       "    </tr>\n",
       "    <tr>\n",
       "      <th>10475.0</th>\n",
       "      <td>639</td>\n",
       "      <td>639</td>\n",
       "      <td>639</td>\n",
       "      <td>639</td>\n",
       "      <td>639</td>\n",
       "    </tr>\n",
       "    <tr>\n",
       "      <th>11370.0</th>\n",
       "      <td>1</td>\n",
       "      <td>1</td>\n",
       "      <td>1</td>\n",
       "      <td>1</td>\n",
       "      <td>1</td>\n",
       "    </tr>\n",
       "  </tbody>\n",
       "</table>\n",
       "</div>"
      ],
      "text/plain": [
       "              Address  NumBldgs  NumFloors  YearBuilt  YearAlter1\n",
       "incident_zip                                                     \n",
       "10451.0           990       990        990        990         990\n",
       "10452.0          1303      1303       1303       1303        1303\n",
       "10453.0          1934      1934       1934       1934        1934\n",
       "10454.0          1505      1505       1505       1505        1505\n",
       "10455.0          1604      1604       1604       1604        1604\n",
       "10456.0          2551      2551       2551       2551        2551\n",
       "10457.0          2670      2670       2670       2670        2670\n",
       "10458.0          2580      2580       2580       2580        2580\n",
       "10459.0          2359      2359       2359       2359        2359\n",
       "10460.0          2601      2601       2601       2601        2601\n",
       "10461.0          7168      7168       7168       7168        7168\n",
       "10462.0          4411      4411       4411       4411        4411\n",
       "10463.0          2041      2041       2041       2041        2041\n",
       "10464.0          1331      1331       1331       1331        1331\n",
       "10465.0          7676      7676       7676       7676        7676\n",
       "10466.0          8810      8810       8810       8810        8810\n",
       "10467.0          4465      4465       4465       4465        4465\n",
       "10468.0          1505      1505       1505       1505        1505\n",
       "10469.0         10928     10928      10928      10928       10928\n",
       "10470.0          2218      2218       2218       2218        2218\n",
       "10471.0          2007      2007       2007       2007        2007\n",
       "10472.0          4202      4202       4202       4202        4202\n",
       "10473.0          4464      4464       4464       4464        4464\n",
       "10474.0          1015      1015       1015       1015        1015\n",
       "10475.0           639       639        639        639         639\n",
       "11370.0             1         1          1          1           1"
      ]
     },
     "execution_count": 57,
     "metadata": {},
     "output_type": "execute_result"
    }
   ],
   "source": [
    "stats2 = df2.groupby(['incident_zip'], as_index=True) \n",
    "stats2.count()"
   ]
  },
  {
   "cell_type": "code",
   "execution_count": 58,
   "metadata": {},
   "outputs": [
    {
     "name": "stderr",
     "output_type": "stream",
     "text": [
      "/opt/conda/envs/DSX-Python35/lib/python3.5/site-packages/seaborn/categorical.py:1460: FutureWarning: remove_na is deprecated and is a private function. Do not use.\n",
      "  stat_data = remove_na(group_data)\n"
     ]
    },
    {
     "data": {
      "text/plain": [
       "<matplotlib.axes._subplots.AxesSubplot at 0x7fc8ef1f1e80>"
      ]
     },
     "execution_count": 58,
     "metadata": {},
     "output_type": "execute_result"
    },
    {
     "data": {
      "image/png": "[encoded data removed]",
      "text/plain": [
       "<matplotlib.figure.Figure at 0x7fc8ef1dd978>"
      ]
     },
     "metadata": {},
     "output_type": "display_data"
    }
   ],
   "source": [
    "plt.figure(figsize=(20,10))\n",
    "sns.countplot(x=df2.incident_zip)"
   ]
  },
  {
   "cell_type": "code",
   "execution_count": 59,
   "metadata": {},
   "outputs": [
    {
     "data": {
      "text/plain": [
       "True     532321\n",
       "False         4\n",
       "Name: incident_zip, dtype: int64"
      ]
     },
     "execution_count": 59,
     "metadata": {},
     "output_type": "execute_result"
    }
   ],
   "source": [
    "df1['incident_zip'].isin(df2['incident_zip']).value_counts()"
   ]
  },
  {
   "cell_type": "code",
   "execution_count": 60,
   "metadata": {},
   "outputs": [],
   "source": [
    "df1 = df1[df1.incident_zip.isin(df2['incident_zip'])]"
   ]
  },
  {
   "cell_type": "code",
   "execution_count": 61,
   "metadata": {},
   "outputs": [
    {
     "data": {
      "text/plain": [
       "True     82977\n",
       "False        1\n",
       "Name: incident_zip, dtype: int64"
      ]
     },
     "execution_count": 61,
     "metadata": {},
     "output_type": "execute_result"
    }
   ],
   "source": [
    "df2['incident_zip'].isin(df1['incident_zip']).value_counts()"
   ]
  },
  {
   "cell_type": "code",
   "execution_count": 62,
   "metadata": {},
   "outputs": [],
   "source": [
    "df2 = df2[df2.incident_zip.isin(df1['incident_zip'])]"
   ]
  },
  {
   "cell_type": "code",
   "execution_count": 63,
   "metadata": {},
   "outputs": [
    {
     "data": {
      "text/plain": [
       "True    532321\n",
       "Name: incident_zip, dtype: int64"
      ]
     },
     "execution_count": 63,
     "metadata": {},
     "output_type": "execute_result"
    }
   ],
   "source": [
    "df1['incident_zip'].isin(df2['incident_zip']).value_counts()"
   ]
  },
  {
   "cell_type": "code",
   "execution_count": 64,
   "metadata": {},
   "outputs": [
    {
     "data": {
      "text/plain": [
       "True    82977\n",
       "Name: incident_zip, dtype: int64"
      ]
     },
     "execution_count": 64,
     "metadata": {},
     "output_type": "execute_result"
    }
   ],
   "source": [
    "df2['incident_zip'].isin(df1['incident_zip']).value_counts()"
   ]
  },
  {
   "cell_type": "code",
   "execution_count": 65,
   "metadata": {},
   "outputs": [
    {
     "data": {
      "text/html": [
       "<div>\n",
       "<style scoped>\n",
       "    .dataframe tbody tr th:only-of-type {\n",
       "        vertical-align: middle;\n",
       "    }\n",
       "\n",
       "    .dataframe tbody tr th {\n",
       "        vertical-align: top;\n",
       "    }\n",
       "\n",
       "    .dataframe thead th {\n",
       "        text-align: right;\n",
       "    }\n",
       "</style>\n",
       "<table border=\"1\" class=\"dataframe\">\n",
       "  <thead>\n",
       "    <tr style=\"text-align: right;\">\n",
       "      <th></th>\n",
       "      <th>borough</th>\n",
       "      <th>city</th>\n",
       "      <th>complaint_type</th>\n",
       "      <th>incident_address</th>\n",
       "      <th>incident_zip</th>\n",
       "    </tr>\n",
       "  </thead>\n",
       "  <tbody>\n",
       "    <tr>\n",
       "      <th>13</th>\n",
       "      <td>BRONX</td>\n",
       "      <td>BRONX</td>\n",
       "      <td>HEAT/HOT WATER</td>\n",
       "      <td>1505 TOWNSEND AVENUE</td>\n",
       "      <td>10452.0</td>\n",
       "    </tr>\n",
       "    <tr>\n",
       "      <th>14</th>\n",
       "      <td>BRONX</td>\n",
       "      <td>BRONX</td>\n",
       "      <td>HEAT/HOT WATER</td>\n",
       "      <td>1390 PROSPECT AVENUE</td>\n",
       "      <td>10459.0</td>\n",
       "    </tr>\n",
       "    <tr>\n",
       "      <th>189</th>\n",
       "      <td>BRONX</td>\n",
       "      <td>BRONX</td>\n",
       "      <td>HEAT/HOT WATER</td>\n",
       "      <td>2995 BOTANICAL SQUARE</td>\n",
       "      <td>10458.0</td>\n",
       "    </tr>\n",
       "    <tr>\n",
       "      <th>192</th>\n",
       "      <td>BRONX</td>\n",
       "      <td>BRONX</td>\n",
       "      <td>HEAT/HOT WATER</td>\n",
       "      <td>2351 GRAND CONCOURSE</td>\n",
       "      <td>10468.0</td>\n",
       "    </tr>\n",
       "    <tr>\n",
       "      <th>205</th>\n",
       "      <td>BRONX</td>\n",
       "      <td>BRONX</td>\n",
       "      <td>HEAT/HOT WATER</td>\n",
       "      <td>750 GRAND CONCOURSE</td>\n",
       "      <td>10451.0</td>\n",
       "    </tr>\n",
       "  </tbody>\n",
       "</table>\n",
       "</div>"
      ],
      "text/plain": [
       "    borough   city  complaint_type       incident_address  incident_zip\n",
       "13    BRONX  BRONX  HEAT/HOT WATER   1505 TOWNSEND AVENUE       10452.0\n",
       "14    BRONX  BRONX  HEAT/HOT WATER   1390 PROSPECT AVENUE       10459.0\n",
       "189   BRONX  BRONX  HEAT/HOT WATER  2995 BOTANICAL SQUARE       10458.0\n",
       "192   BRONX  BRONX  HEAT/HOT WATER   2351 GRAND CONCOURSE       10468.0\n",
       "205   BRONX  BRONX  HEAT/HOT WATER    750 GRAND CONCOURSE       10451.0"
      ]
     },
     "execution_count": 65,
     "metadata": {},
     "output_type": "execute_result"
    }
   ],
   "source": [
    "df1.head()"
   ]
  },
  {
   "cell_type": "code",
   "execution_count": 66,
   "metadata": {},
   "outputs": [],
   "source": [
    "df1 = df1.tail(100000)\n",
    "df2.drop(['Address','NumBldgs','YearAlter1'], axis=1, inplace=True)\n",
    "\n",
    "df1 = df1[df1.incident_zip.isin(df2['incident_zip'])]\n",
    "df2 = df2[df2.incident_zip.isin(df1['incident_zip'])]"
   ]
  },
  {
   "cell_type": "code",
   "execution_count": 67,
   "metadata": {},
   "outputs": [
    {
     "name": "stdout",
     "output_type": "stream",
     "text": [
      "<class 'pandas.core.frame.DataFrame'>\n",
      "Int64Index: 100000 entries, 4751859 to 5563629\n",
      "Data columns (total 5 columns):\n",
      "borough             100000 non-null object\n",
      "city                100000 non-null object\n",
      "complaint_type      100000 non-null object\n",
      "incident_address    100000 non-null object\n",
      "incident_zip        100000 non-null float64\n",
      "dtypes: float64(1), object(4)\n",
      "memory usage: 4.6+ MB\n"
     ]
    }
   ],
   "source": [
    "df1.info()"
   ]
  },
  {
   "cell_type": "code",
   "execution_count": 68,
   "metadata": {},
   "outputs": [
    {
     "data": {
      "text/html": [
       "<div>\n",
       "<style scoped>\n",
       "    .dataframe tbody tr th:only-of-type {\n",
       "        vertical-align: middle;\n",
       "    }\n",
       "\n",
       "    .dataframe tbody tr th {\n",
       "        vertical-align: top;\n",
       "    }\n",
       "\n",
       "    .dataframe thead th {\n",
       "        text-align: right;\n",
       "    }\n",
       "</style>\n",
       "<table border=\"1\" class=\"dataframe\">\n",
       "  <thead>\n",
       "    <tr style=\"text-align: right;\">\n",
       "      <th></th>\n",
       "      <th>NumFloors</th>\n",
       "      <th>YearBuilt</th>\n",
       "      <th>incident_zip</th>\n",
       "    </tr>\n",
       "  </thead>\n",
       "  <tbody>\n",
       "    <tr>\n",
       "      <th>1</th>\n",
       "      <td>1.0</td>\n",
       "      <td>1931</td>\n",
       "      <td>10454.0</td>\n",
       "    </tr>\n",
       "    <tr>\n",
       "      <th>2</th>\n",
       "      <td>2.0</td>\n",
       "      <td>1931</td>\n",
       "      <td>10454.0</td>\n",
       "    </tr>\n",
       "    <tr>\n",
       "      <th>3</th>\n",
       "      <td>5.0</td>\n",
       "      <td>1931</td>\n",
       "      <td>10454.0</td>\n",
       "    </tr>\n",
       "    <tr>\n",
       "      <th>4</th>\n",
       "      <td>5.0</td>\n",
       "      <td>1920</td>\n",
       "      <td>10454.0</td>\n",
       "    </tr>\n",
       "    <tr>\n",
       "      <th>6</th>\n",
       "      <td>1.0</td>\n",
       "      <td>1931</td>\n",
       "      <td>10454.0</td>\n",
       "    </tr>\n",
       "  </tbody>\n",
       "</table>\n",
       "</div>"
      ],
      "text/plain": [
       "   NumFloors  YearBuilt  incident_zip\n",
       "1        1.0       1931       10454.0\n",
       "2        2.0       1931       10454.0\n",
       "3        5.0       1931       10454.0\n",
       "4        5.0       1920       10454.0\n",
       "6        1.0       1931       10454.0"
      ]
     },
     "execution_count": 68,
     "metadata": {},
     "output_type": "execute_result"
    }
   ],
   "source": [
    "df2.head()"
   ]
  },
  {
   "cell_type": "code",
   "execution_count": 69,
   "metadata": {},
   "outputs": [
    {
     "name": "stdout",
     "output_type": "stream",
     "text": [
      "<class 'pandas.core.frame.DataFrame'>\n",
      "Int64Index: 82977 entries, 1 to 89845\n",
      "Data columns (total 3 columns):\n",
      "NumFloors       82977 non-null float64\n",
      "YearBuilt       82977 non-null int64\n",
      "incident_zip    82977 non-null float64\n",
      "dtypes: float64(2), int64(1)\n",
      "memory usage: 2.5 MB\n"
     ]
    }
   ],
   "source": [
    "df2.info()"
   ]
  },
  {
   "cell_type": "code",
   "execution_count": 70,
   "metadata": {},
   "outputs": [],
   "source": [
    "df1 = df1.head(40000)"
   ]
  },
  {
   "cell_type": "code",
   "execution_count": 71,
   "metadata": {},
   "outputs": [],
   "source": [
    "df2 = df2.tail(50000)"
   ]
  },
  {
   "cell_type": "code",
   "execution_count": 72,
   "metadata": {},
   "outputs": [],
   "source": [
    "df4 = pd.merge(df1,df2, on=\"incident_zip\", how='outer')"
   ]
  },
  {
   "cell_type": "code",
   "execution_count": 73,
   "metadata": {},
   "outputs": [
    {
     "data": {
      "text/html": [
       "<div>\n",
       "<style scoped>\n",
       "    .dataframe tbody tr th:only-of-type {\n",
       "        vertical-align: middle;\n",
       "    }\n",
       "\n",
       "    .dataframe tbody tr th {\n",
       "        vertical-align: top;\n",
       "    }\n",
       "\n",
       "    .dataframe thead th {\n",
       "        text-align: right;\n",
       "    }\n",
       "</style>\n",
       "<table border=\"1\" class=\"dataframe\">\n",
       "  <thead>\n",
       "    <tr style=\"text-align: right;\">\n",
       "      <th></th>\n",
       "      <th>complaint_type</th>\n",
       "      <th>incident_address</th>\n",
       "      <th>incident_zip</th>\n",
       "      <th>NumFloors</th>\n",
       "      <th>YearBuilt</th>\n",
       "    </tr>\n",
       "  </thead>\n",
       "  <tbody>\n",
       "    <tr>\n",
       "      <th>0</th>\n",
       "      <td>HEAT/HOT WATER</td>\n",
       "      <td>1133 MORRISON AVENUE</td>\n",
       "      <td>10472.0</td>\n",
       "      <td>1.0</td>\n",
       "      <td>1930.0</td>\n",
       "    </tr>\n",
       "    <tr>\n",
       "      <th>1</th>\n",
       "      <td>HEAT/HOT WATER</td>\n",
       "      <td>1133 MORRISON AVENUE</td>\n",
       "      <td>10472.0</td>\n",
       "      <td>1.0</td>\n",
       "      <td>1953.0</td>\n",
       "    </tr>\n",
       "    <tr>\n",
       "      <th>2</th>\n",
       "      <td>HEAT/HOT WATER</td>\n",
       "      <td>1133 MORRISON AVENUE</td>\n",
       "      <td>10472.0</td>\n",
       "      <td>2.0</td>\n",
       "      <td>1927.0</td>\n",
       "    </tr>\n",
       "    <tr>\n",
       "      <th>3</th>\n",
       "      <td>HEAT/HOT WATER</td>\n",
       "      <td>1133 MORRISON AVENUE</td>\n",
       "      <td>10472.0</td>\n",
       "      <td>2.0</td>\n",
       "      <td>1927.0</td>\n",
       "    </tr>\n",
       "    <tr>\n",
       "      <th>4</th>\n",
       "      <td>HEAT/HOT WATER</td>\n",
       "      <td>1133 MORRISON AVENUE</td>\n",
       "      <td>10472.0</td>\n",
       "      <td>2.0</td>\n",
       "      <td>1927.0</td>\n",
       "    </tr>\n",
       "  </tbody>\n",
       "</table>\n",
       "</div>"
      ],
      "text/plain": [
       "   complaint_type      incident_address  incident_zip  NumFloors  YearBuilt\n",
       "0  HEAT/HOT WATER  1133 MORRISON AVENUE       10472.0        1.0     1930.0\n",
       "1  HEAT/HOT WATER  1133 MORRISON AVENUE       10472.0        1.0     1953.0\n",
       "2  HEAT/HOT WATER  1133 MORRISON AVENUE       10472.0        2.0     1927.0\n",
       "3  HEAT/HOT WATER  1133 MORRISON AVENUE       10472.0        2.0     1927.0\n",
       "4  HEAT/HOT WATER  1133 MORRISON AVENUE       10472.0        2.0     1927.0"
      ]
     },
     "execution_count": 73,
     "metadata": {},
     "output_type": "execute_result"
    }
   ],
   "source": [
    "df4.drop(['borough','city'], axis=1, inplace=True)\n",
    "df4.head()"
   ]
  },
  {
   "cell_type": "code",
   "execution_count": 74,
   "metadata": {},
   "outputs": [
    {
     "data": {
      "text/plain": [
       "(53997758, 5)"
      ]
     },
     "execution_count": 74,
     "metadata": {},
     "output_type": "execute_result"
    }
   ],
   "source": [
    "df4.shape"
   ]
  },
  {
   "cell_type": "code",
   "execution_count": 75,
   "metadata": {},
   "outputs": [
    {
     "data": {
      "text/plain": [
       "complaint_type          0\n",
       "incident_address        0\n",
       "incident_zip            0\n",
       "NumFloors           17059\n",
       "YearBuilt           17059\n",
       "dtype: int64"
      ]
     },
     "execution_count": 75,
     "metadata": {},
     "output_type": "execute_result"
    }
   ],
   "source": [
    "df4.isnull().sum()"
   ]
  },
  {
   "cell_type": "code",
   "execution_count": 76,
   "metadata": {},
   "outputs": [
    {
     "name": "stderr",
     "output_type": "stream",
     "text": [
      "/opt/conda/envs/DSX-Python35/lib/python3.5/site-packages/seaborn/categorical.py:1460: FutureWarning: remove_na is deprecated and is a private function. Do not use.\n",
      "  stat_data = remove_na(group_data)\n"
     ]
    },
    {
     "data": {
      "text/plain": [
       "(array([ 0,  1,  2,  3,  4,  5,  6,  7,  8,  9, 10, 11, 12, 13, 14, 15, 16,\n",
       "        17, 18, 19, 20, 21, 22, 23, 24, 25, 26, 27, 28, 29, 30, 31, 32, 33,\n",
       "        34, 35, 36, 37, 38]), <a list of 39 Text xticklabel objects>)"
      ]
     },
     "execution_count": 76,
     "metadata": {},
     "output_type": "execute_result"
    },
    {
     "data": {
      "image/png": "[encoded data removed]",
      "text/plain": [
       "<matplotlib.figure.Figure at 0x7fc90b9351d0>"
      ]
     },
     "metadata": {},
     "output_type": "display_data"
    }
   ],
   "source": [
    "plt.figure(figsize=(20,10))\n",
    "sns.countplot(x=df4.NumFloors)\n",
    "plt.xticks(rotation=90)"
   ]
  },
  {
   "cell_type": "code",
   "execution_count": 77,
   "metadata": {},
   "outputs": [
    {
     "data": {
      "text/html": [
       "<div>\n",
       "<style scoped>\n",
       "    .dataframe tbody tr th:only-of-type {\n",
       "        vertical-align: middle;\n",
       "    }\n",
       "\n",
       "    .dataframe tbody tr th {\n",
       "        vertical-align: top;\n",
       "    }\n",
       "\n",
       "    .dataframe thead th {\n",
       "        text-align: right;\n",
       "    }\n",
       "</style>\n",
       "<table border=\"1\" class=\"dataframe\">\n",
       "  <thead>\n",
       "    <tr style=\"text-align: right;\">\n",
       "      <th></th>\n",
       "      <th>complaint_type</th>\n",
       "      <th>incident_address</th>\n",
       "      <th>incident_zip</th>\n",
       "      <th>YearBuilt</th>\n",
       "    </tr>\n",
       "    <tr>\n",
       "      <th>NumFloors</th>\n",
       "      <th></th>\n",
       "      <th></th>\n",
       "      <th></th>\n",
       "      <th></th>\n",
       "    </tr>\n",
       "  </thead>\n",
       "  <tbody>\n",
       "    <tr>\n",
       "      <th>1.00</th>\n",
       "      <td>5203350</td>\n",
       "      <td>5203350</td>\n",
       "      <td>5203350</td>\n",
       "      <td>5203350</td>\n",
       "    </tr>\n",
       "    <tr>\n",
       "      <th>1.25</th>\n",
       "      <td>730</td>\n",
       "      <td>730</td>\n",
       "      <td>730</td>\n",
       "      <td>730</td>\n",
       "    </tr>\n",
       "    <tr>\n",
       "      <th>1.33</th>\n",
       "      <td>36</td>\n",
       "      <td>36</td>\n",
       "      <td>36</td>\n",
       "      <td>36</td>\n",
       "    </tr>\n",
       "    <tr>\n",
       "      <th>1.50</th>\n",
       "      <td>778862</td>\n",
       "      <td>778862</td>\n",
       "      <td>778862</td>\n",
       "      <td>778862</td>\n",
       "    </tr>\n",
       "    <tr>\n",
       "      <th>1.67</th>\n",
       "      <td>176776</td>\n",
       "      <td>176776</td>\n",
       "      <td>176776</td>\n",
       "      <td>176776</td>\n",
       "    </tr>\n",
       "    <tr>\n",
       "      <th>1.75</th>\n",
       "      <td>419582</td>\n",
       "      <td>419582</td>\n",
       "      <td>419582</td>\n",
       "      <td>419582</td>\n",
       "    </tr>\n",
       "    <tr>\n",
       "      <th>2.00</th>\n",
       "      <td>29133605</td>\n",
       "      <td>29133605</td>\n",
       "      <td>29133605</td>\n",
       "      <td>29133605</td>\n",
       "    </tr>\n",
       "    <tr>\n",
       "      <th>2.25</th>\n",
       "      <td>9245</td>\n",
       "      <td>9245</td>\n",
       "      <td>9245</td>\n",
       "      <td>9245</td>\n",
       "    </tr>\n",
       "    <tr>\n",
       "      <th>2.50</th>\n",
       "      <td>4689445</td>\n",
       "      <td>4689445</td>\n",
       "      <td>4689445</td>\n",
       "      <td>4689445</td>\n",
       "    </tr>\n",
       "    <tr>\n",
       "      <th>2.67</th>\n",
       "      <td>53422</td>\n",
       "      <td>53422</td>\n",
       "      <td>53422</td>\n",
       "      <td>53422</td>\n",
       "    </tr>\n",
       "    <tr>\n",
       "      <th>2.75</th>\n",
       "      <td>953952</td>\n",
       "      <td>953952</td>\n",
       "      <td>953952</td>\n",
       "      <td>953952</td>\n",
       "    </tr>\n",
       "    <tr>\n",
       "      <th>3.00</th>\n",
       "      <td>8302288</td>\n",
       "      <td>8302288</td>\n",
       "      <td>8302288</td>\n",
       "      <td>8302288</td>\n",
       "    </tr>\n",
       "    <tr>\n",
       "      <th>3.50</th>\n",
       "      <td>45277</td>\n",
       "      <td>45277</td>\n",
       "      <td>45277</td>\n",
       "      <td>45277</td>\n",
       "    </tr>\n",
       "    <tr>\n",
       "      <th>3.75</th>\n",
       "      <td>77193</td>\n",
       "      <td>77193</td>\n",
       "      <td>77193</td>\n",
       "      <td>77193</td>\n",
       "    </tr>\n",
       "    <tr>\n",
       "      <th>4.00</th>\n",
       "      <td>802828</td>\n",
       "      <td>802828</td>\n",
       "      <td>802828</td>\n",
       "      <td>802828</td>\n",
       "    </tr>\n",
       "    <tr>\n",
       "      <th>4.50</th>\n",
       "      <td>10</td>\n",
       "      <td>10</td>\n",
       "      <td>10</td>\n",
       "      <td>10</td>\n",
       "    </tr>\n",
       "    <tr>\n",
       "      <th>5.00</th>\n",
       "      <td>714138</td>\n",
       "      <td>714138</td>\n",
       "      <td>714138</td>\n",
       "      <td>714138</td>\n",
       "    </tr>\n",
       "    <tr>\n",
       "      <th>6.00</th>\n",
       "      <td>1616039</td>\n",
       "      <td>1616039</td>\n",
       "      <td>1616039</td>\n",
       "      <td>1616039</td>\n",
       "    </tr>\n",
       "    <tr>\n",
       "      <th>7.00</th>\n",
       "      <td>331721</td>\n",
       "      <td>331721</td>\n",
       "      <td>331721</td>\n",
       "      <td>331721</td>\n",
       "    </tr>\n",
       "    <tr>\n",
       "      <th>8.00</th>\n",
       "      <td>73548</td>\n",
       "      <td>73548</td>\n",
       "      <td>73548</td>\n",
       "      <td>73548</td>\n",
       "    </tr>\n",
       "    <tr>\n",
       "      <th>9.00</th>\n",
       "      <td>65346</td>\n",
       "      <td>65346</td>\n",
       "      <td>65346</td>\n",
       "      <td>65346</td>\n",
       "    </tr>\n",
       "    <tr>\n",
       "      <th>10.00</th>\n",
       "      <td>77333</td>\n",
       "      <td>77333</td>\n",
       "      <td>77333</td>\n",
       "      <td>77333</td>\n",
       "    </tr>\n",
       "    <tr>\n",
       "      <th>11.00</th>\n",
       "      <td>45272</td>\n",
       "      <td>45272</td>\n",
       "      <td>45272</td>\n",
       "      <td>45272</td>\n",
       "    </tr>\n",
       "    <tr>\n",
       "      <th>12.00</th>\n",
       "      <td>103607</td>\n",
       "      <td>103607</td>\n",
       "      <td>103607</td>\n",
       "      <td>103607</td>\n",
       "    </tr>\n",
       "    <tr>\n",
       "      <th>13.00</th>\n",
       "      <td>51632</td>\n",
       "      <td>51632</td>\n",
       "      <td>51632</td>\n",
       "      <td>51632</td>\n",
       "    </tr>\n",
       "    <tr>\n",
       "      <th>14.00</th>\n",
       "      <td>73305</td>\n",
       "      <td>73305</td>\n",
       "      <td>73305</td>\n",
       "      <td>73305</td>\n",
       "    </tr>\n",
       "    <tr>\n",
       "      <th>15.00</th>\n",
       "      <td>37513</td>\n",
       "      <td>37513</td>\n",
       "      <td>37513</td>\n",
       "      <td>37513</td>\n",
       "    </tr>\n",
       "    <tr>\n",
       "      <th>16.00</th>\n",
       "      <td>17577</td>\n",
       "      <td>17577</td>\n",
       "      <td>17577</td>\n",
       "      <td>17577</td>\n",
       "    </tr>\n",
       "    <tr>\n",
       "      <th>17.00</th>\n",
       "      <td>1476</td>\n",
       "      <td>1476</td>\n",
       "      <td>1476</td>\n",
       "      <td>1476</td>\n",
       "    </tr>\n",
       "    <tr>\n",
       "      <th>18.00</th>\n",
       "      <td>3406</td>\n",
       "      <td>3406</td>\n",
       "      <td>3406</td>\n",
       "      <td>3406</td>\n",
       "    </tr>\n",
       "    <tr>\n",
       "      <th>19.00</th>\n",
       "      <td>14901</td>\n",
       "      <td>14901</td>\n",
       "      <td>14901</td>\n",
       "      <td>14901</td>\n",
       "    </tr>\n",
       "    <tr>\n",
       "      <th>20.00</th>\n",
       "      <td>58092</td>\n",
       "      <td>58092</td>\n",
       "      <td>58092</td>\n",
       "      <td>58092</td>\n",
       "    </tr>\n",
       "    <tr>\n",
       "      <th>21.00</th>\n",
       "      <td>2640</td>\n",
       "      <td>2640</td>\n",
       "      <td>2640</td>\n",
       "      <td>2640</td>\n",
       "    </tr>\n",
       "    <tr>\n",
       "      <th>22.00</th>\n",
       "      <td>12261</td>\n",
       "      <td>12261</td>\n",
       "      <td>12261</td>\n",
       "      <td>12261</td>\n",
       "    </tr>\n",
       "    <tr>\n",
       "      <th>24.00</th>\n",
       "      <td>2211</td>\n",
       "      <td>2211</td>\n",
       "      <td>2211</td>\n",
       "      <td>2211</td>\n",
       "    </tr>\n",
       "    <tr>\n",
       "      <th>25.00</th>\n",
       "      <td>12261</td>\n",
       "      <td>12261</td>\n",
       "      <td>12261</td>\n",
       "      <td>12261</td>\n",
       "    </tr>\n",
       "    <tr>\n",
       "      <th>28.00</th>\n",
       "      <td>730</td>\n",
       "      <td>730</td>\n",
       "      <td>730</td>\n",
       "      <td>730</td>\n",
       "    </tr>\n",
       "    <tr>\n",
       "      <th>30.00</th>\n",
       "      <td>19017</td>\n",
       "      <td>19017</td>\n",
       "      <td>19017</td>\n",
       "      <td>19017</td>\n",
       "    </tr>\n",
       "    <tr>\n",
       "      <th>33.00</th>\n",
       "      <td>72</td>\n",
       "      <td>72</td>\n",
       "      <td>72</td>\n",
       "      <td>72</td>\n",
       "    </tr>\n",
       "  </tbody>\n",
       "</table>\n",
       "</div>"
      ],
      "text/plain": [
       "           complaint_type  incident_address  incident_zip  YearBuilt\n",
       "NumFloors                                                           \n",
       "1.00              5203350           5203350       5203350    5203350\n",
       "1.25                  730               730           730        730\n",
       "1.33                   36                36            36         36\n",
       "1.50               778862            778862        778862     778862\n",
       "1.67               176776            176776        176776     176776\n",
       "1.75               419582            419582        419582     419582\n",
       "2.00             29133605          29133605      29133605   29133605\n",
       "2.25                 9245              9245          9245       9245\n",
       "2.50              4689445           4689445       4689445    4689445\n",
       "2.67                53422             53422         53422      53422\n",
       "2.75               953952            953952        953952     953952\n",
       "3.00              8302288           8302288       8302288    8302288\n",
       "3.50                45277             45277         45277      45277\n",
       "3.75                77193             77193         77193      77193\n",
       "4.00               802828            802828        802828     802828\n",
       "4.50                   10                10            10         10\n",
       "5.00               714138            714138        714138     714138\n",
       "6.00              1616039           1616039       1616039    1616039\n",
       "7.00               331721            331721        331721     331721\n",
       "8.00                73548             73548         73548      73548\n",
       "9.00                65346             65346         65346      65346\n",
       "10.00               77333             77333         77333      77333\n",
       "11.00               45272             45272         45272      45272\n",
       "12.00              103607            103607        103607     103607\n",
       "13.00               51632             51632         51632      51632\n",
       "14.00               73305             73305         73305      73305\n",
       "15.00               37513             37513         37513      37513\n",
       "16.00               17577             17577         17577      17577\n",
       "17.00                1476              1476          1476       1476\n",
       "18.00                3406              3406          3406       3406\n",
       "19.00               14901             14901         14901      14901\n",
       "20.00               58092             58092         58092      58092\n",
       "21.00                2640              2640          2640       2640\n",
       "22.00               12261             12261         12261      12261\n",
       "24.00                2211              2211          2211       2211\n",
       "25.00               12261             12261         12261      12261\n",
       "28.00                 730               730           730        730\n",
       "30.00               19017             19017         19017      19017\n",
       "33.00                  72                72            72         72"
      ]
     },
     "execution_count": 77,
     "metadata": {},
     "output_type": "execute_result"
    }
   ],
   "source": [
    "# Correlation\n",
    "stats = df4[df4['complaint_type'] == 'HEAT/HOT WATER'].groupby('NumFloors')\n",
    "stats.count()"
   ]
  },
  {
   "cell_type": "markdown",
   "metadata": {},
   "source": [
    "# Concluding Remark 1: We can see a very high correlation between the complaint type \"HEAT/HOT WATER\" and buildings having 2 floors."
   ]
  },
  {
   "cell_type": "code",
   "execution_count": 78,
   "metadata": {},
   "outputs": [
    {
     "name": "stderr",
     "output_type": "stream",
     "text": [
      "/opt/conda/envs/DSX-Python35/lib/python3.5/site-packages/seaborn/categorical.py:1460: FutureWarning: remove_na is deprecated and is a private function. Do not use.\n",
      "  stat_data = remove_na(group_data)\n"
     ]
    },
    {
     "data": {
      "text/plain": [
       "(array([  0,   1,   2,   3,   4,   5,   6,   7,   8,   9,  10,  11,  12,\n",
       "         13,  14,  15,  16,  17,  18,  19,  20,  21,  22,  23,  24,  25,\n",
       "         26,  27,  28,  29,  30,  31,  32,  33,  34,  35,  36,  37,  38,\n",
       "         39,  40,  41,  42,  43,  44,  45,  46,  47,  48,  49,  50,  51,\n",
       "         52,  53,  54,  55,  56,  57,  58,  59,  60,  61,  62,  63,  64,\n",
       "         65,  66,  67,  68,  69,  70,  71,  72,  73,  74,  75,  76,  77,\n",
       "         78,  79,  80,  81,  82,  83,  84,  85,  86,  87,  88,  89,  90,\n",
       "         91,  92,  93,  94,  95,  96,  97,  98,  99, 100, 101, 102, 103,\n",
       "        104, 105, 106, 107, 108, 109, 110, 111, 112, 113, 114, 115, 116,\n",
       "        117, 118, 119, 120, 121, 122, 123, 124, 125, 126, 127, 128, 129,\n",
       "        130, 131, 132, 133, 134]), <a list of 135 Text xticklabel objects>)"
      ]
     },
     "execution_count": 78,
     "metadata": {},
     "output_type": "execute_result"
    },
    {
     "data": {
      "image/png": "[encoded data removed]",
      "text/plain": [
       "<matplotlib.figure.Figure at 0x7fc909940588>"
      ]
     },
     "metadata": {},
     "output_type": "display_data"
    }
   ],
   "source": [
    "plt.figure(figsize=(20,10))\n",
    "sns.countplot(x=df4.YearBuilt)\n",
    "plt.xticks(rotation=90)"
   ]
  },
  {
   "cell_type": "markdown",
   "metadata": {},
   "source": [
    "# Concluding Remark 2: We can see that most buildings with high \"HEAT/HOT WATER\" complaint type are built prior to 1970."
   ]
  }
 ],
 "metadata": {
  "kernelspec": {
   "display_name": "Python 3 (ipykernel)",
   "language": "python",
   "name": "python3"
  },
  "language_info": {
   "codemirror_mode": {
    "name": "ipython",
    "version": 3
   },
   "file_extension": ".py",
   "mimetype": "text/x-python",
   "name": "python",
   "nbconvert_exporter": "python",
   "pygments_lexer": "ipython3",
   "version": "3.9.12"
  }
 },
 "nbformat": 4,
 "nbformat_minor": 2
}
